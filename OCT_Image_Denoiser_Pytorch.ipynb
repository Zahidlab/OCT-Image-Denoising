{
  "cells": [
    {
      "cell_type": "markdown",
      "metadata": {
        "id": "view-in-github",
        "colab_type": "text"
      },
      "source": [
        "<a href=\"https://colab.research.google.com/github/Zahidlab/OCT-Image-Denoising/blob/main/OCT_Image_Denoiser_Pytorch.ipynb\" target=\"_parent\"><img src=\"https://colab.research.google.com/assets/colab-badge.svg\" alt=\"Open In Colab\"/></a>"
      ]
    },
    {
      "cell_type": "code",
      "execution_count": 1,
      "metadata": {
        "id": "6bL7X8Aqu_Mg"
      },
      "outputs": [],
      "source": [
        "# !zip -r /content/patchOCT.zip /content/'Patch OCT Dataset'"
      ]
    },
    {
      "cell_type": "code",
      "execution_count": 72,
      "metadata": {
        "id": "fmRcuBsjpoO1"
      },
      "outputs": [],
      "source": [
        "import os, shutil\n",
        "from os.path import join, isdir\n",
        "from os import mkdir, makedirs\n",
        "import cv2\n",
        "import sys\n",
        "import torch\n",
        "from torch.utils.data import Dataset\n",
        "from torchvision import datasets, transforms\n",
        "from torch.utils.data import DataLoader\n",
        "from torch import nn\n",
        "import matplotlib.pyplot as plt\n",
        "from PIL import Image\n",
        "from timeit import default_timer as timer"
      ]
    },
    {
      "cell_type": "code",
      "execution_count": 3,
      "metadata": {
        "id": "A055G4iYmdGV",
        "colab": {
          "base_uri": "https://localhost:8080/"
        },
        "outputId": "accc4ae0-0f6d-4447-ca90-5e0c5813b26d"
      },
      "outputs": [
        {
          "output_type": "stream",
          "name": "stdout",
          "text": [
            "cuda\n"
          ]
        }
      ],
      "source": [
        "# Find Out if the code is running in Google Colab\n",
        "\n",
        "COLAB = 'google.colab' in sys.modules\n",
        "\n",
        "#setting up Device for device agnostic code\n",
        "\n",
        "DEVICE = \"cuda\" if torch.cuda.is_available() else \"cpu\"\n",
        "print(DEVICE)"
      ]
    },
    {
      "cell_type": "code",
      "source": [
        "!nvidia-smi"
      ],
      "metadata": {
        "id": "EutO7EGFp3wM"
      },
      "execution_count": null,
      "outputs": []
    },
    {
      "cell_type": "code",
      "execution_count": 4,
      "metadata": {
        "id": "PWVvjX6hnGaS",
        "colab": {
          "base_uri": "https://localhost:8080/"
        },
        "outputId": "b53b1ecd-93ab-421e-fd30-ec6a2a6a1511"
      },
      "outputs": [
        {
          "output_type": "stream",
          "name": "stdout",
          "text": [
            "Drive already mounted at /content/drive; to attempt to forcibly remount, call drive.mount(\"/content/drive\", force_remount=True).\n"
          ]
        }
      ],
      "source": [
        "#Mounting Google Drive and setting the Root Data Directory for Colab Environment\n",
        "\n",
        "if COLAB:\n",
        "  from google.colab import drive\n",
        "  drive.mount('/content/drive')\n",
        "  \n",
        "  # Defining Data Path\n",
        "  Root_Dir = '/content/drive/MyDrive/Research/OCT datasets'\n",
        "\n"
      ]
    },
    {
      "cell_type": "code",
      "execution_count": 5,
      "metadata": {
        "id": "7wHx7xEfotNg"
      },
      "outputs": [],
      "source": [
        "# Setting Specific data path for each different data folder\n",
        "first_first = os.path.join(Root_Dir,'Fast Acuisition', 'For synthetic experiments')\n",
        "first_second = os.path.join(Root_Dir,'Fast Acuisition', 'Images for Dictionaries and Mapping leraning')\n",
        "second = os.path.join(Root_Dir, 'Sparsity Based Denoising... _SDOCT_DATASET_2012_AMD')\n"
      ]
    },
    {
      "cell_type": "markdown",
      "metadata": {
        "id": "9ayUkJLHbGHU"
      },
      "source": [
        "## Importing 3 Datasets"
      ]
    },
    {
      "cell_type": "code",
      "execution_count": 6,
      "metadata": {
        "id": "HQODa-Z6qPaW"
      },
      "outputs": [],
      "source": [
        "# # First First\n",
        "# CLEAN_IMAGES = []\n",
        "# NOISY_IMAGES = []\n",
        "# IMAGE_PATHS = []\n",
        "# for folder in os.listdir(first_first):\n",
        "#   folder_path = os.path.join(first_first, folder)\n",
        "\n",
        "  \n",
        "\n",
        "\n",
        "#   clean_img_path = join(folder_path, 'average.tif')\n",
        "#   noisy_image_path = join(folder_path, '1.tif')\n",
        "\n",
        "#   IMAGE_PATHS.append([noisy_image_path, clean_img_path, 'FAFSE'])\n",
        "\n",
        "\n",
        "\n"
      ]
    },
    {
      "cell_type": "code",
      "execution_count": 7,
      "metadata": {
        "id": "eQEjoUrBke7z"
      },
      "outputs": [],
      "source": [
        "# # second dataset\n",
        "# # IMAGE_PATHS = []\n",
        "# for folder in sorted(os.listdir(second)):\n",
        "\n",
        "#   folder_path = os.path.join(second, folder)\n",
        "\n",
        "#   if os.path.isfile(folder_path):\n",
        "#     continue\n",
        "  \n",
        "\n",
        "#   for img in os.listdir(folder_path):\n",
        "#     if 'Averaged' in img:\n",
        "\n",
        "#       clean_img_path = join(folder_path, img)\n",
        "#     elif 'Raw' in img:\n",
        "\n",
        "#       noisy_image_path = join(folder_path, img)\n",
        "\n",
        "#   IMAGE_PATHS.append([noisy_image_path, clean_img_path, 'FAIFD'])"
      ]
    },
    {
      "cell_type": "code",
      "execution_count": 8,
      "metadata": {
        "id": "GvC8m1597k48"
      },
      "outputs": [],
      "source": [
        "# # First Second\n",
        "# print(first_second)\n",
        "# # Img_paths = []\n",
        "# for i in range(1,11):\n",
        "#   clean_image_path = join(first_second, f'HH{i}.tif')\n",
        "\n",
        "#   noisy_image_path = join(first_second, f'LL{i}.tif')\n",
        "\n",
        "#   IMAGE_PATHS.append([noisy_image_path, clean_image_path, 'SBD'])\n",
        "\n",
        "# # Img_paths"
      ]
    },
    {
      "cell_type": "markdown",
      "metadata": {
        "id": "Gcip_RyTsFa8"
      },
      "source": [
        "### deleting contents of a folder"
      ]
    },
    {
      "cell_type": "code",
      "execution_count": 9,
      "metadata": {
        "id": "NOjBnED9rRtM"
      },
      "outputs": [],
      "source": [
        "import os, shutil\n",
        "def del_contents(path):\n",
        "  folder = path\n",
        "  for filename in os.listdir(folder):\n",
        "      file_path = os.path.join(folder, filename)\n",
        "      try:\n",
        "          if os.path.isfile(file_path) or os.path.islink(file_path):\n",
        "              os.unlink(file_path)\n",
        "          elif os.path.isdir(file_path):\n",
        "              shutil.rmtree(file_path)\n",
        "      except Exception as e:\n",
        "          print('Failed to delete %s. Reason: %s' % (file_path, e))"
      ]
    },
    {
      "cell_type": "markdown",
      "metadata": {
        "id": "lPjlUov_bBgU"
      },
      "source": [
        "## Saving Images in a single folder"
      ]
    },
    {
      "cell_type": "code",
      "execution_count": 10,
      "metadata": {
        "id": "ZDDqdSEo-ffk"
      },
      "outputs": [],
      "source": [
        "# # Saving Images in a single folder\n",
        "# root_dir = '/content/drive/MyDrive/Research/OCT datasets/Organised Dataset'\n",
        "# dir = root_dir\n",
        "# if isdir(root_dir):\n",
        "#   del_contents(root_dir)\n",
        "# else:\n",
        "#   mkdir(root_dir)\n",
        "# clean_dir = join(root_dir, 'Clean')\n",
        "# noisy_dir = join(root_dir, 'Noisy')\n",
        "\n",
        "# if not os.path.isdir(clean_dir):\n",
        "#   os.mkdir(clean_dir)\n",
        "#   os.mkdir(noisy_dir)\n",
        "\n",
        "# index = 1\n",
        "# for n,c,ds in IMAGE_PATHS:\n",
        "\n",
        "#   folder_name = f\"{index:03d} {ds}\"\n",
        "\n",
        "#   clean_folder_path = join(clean_dir, folder_name)\n",
        "\n",
        "#   if not os.path.isdir(clean_folder_path):\n",
        "#     os.mkdir(clean_folder_path)\n",
        "\n",
        "#   file_name = f\"{index:03d} {ds}.jpg\"\n",
        "#   clean_image_path = join(clean_folder_path, file_name)\n",
        "#   shutil.copy(c, clean_image_path)\n",
        "\n",
        "#   ######################\n",
        "\n",
        "#   noisy_folder_path = join(noisy_dir, folder_name)\n",
        "\n",
        "#   if not os.path.isdir(noisy_folder_path):\n",
        "#     os.mkdir(noisy_folder_path)\n",
        "\n",
        "#   file_name = f\"{index:03d} {ds}.jpg\"\n",
        "#   noisy_image_path = join(noisy_folder_path, file_name)\n",
        "#   shutil.copy(n, noisy_image_path)\n",
        "\n",
        "\n",
        "#   index+=1\n",
        "\n",
        "  "
      ]
    },
    {
      "cell_type": "code",
      "execution_count": 11,
      "metadata": {
        "id": "dpVHFeNxmJF7"
      },
      "outputs": [],
      "source": [
        "# len(IMAGE_PATHS)"
      ]
    },
    {
      "cell_type": "markdown",
      "metadata": {
        "id": "zTXwtJyBX0RQ"
      },
      "source": [
        "## Creating Image Patchs"
      ]
    },
    {
      "cell_type": "code",
      "execution_count": 12,
      "metadata": {
        "id": "xsdfL5IpVk5N"
      },
      "outputs": [],
      "source": [
        "# # Creating Image Paths\n",
        "\n",
        "# PATCH_SIZE = 64\n",
        "\n",
        "# patch_root_dir = \"/content/drive/MyDrive/Research/OCT datasets/Patch OCT Dataset\"\n",
        "\n",
        "# if isdir(patch_root_dir):\n",
        "#   del_contents(patch_root_dir)\n",
        "# else:\n",
        "#   os.mkdir(patch_root_dir)\n",
        "\n",
        "# clean_patch_dir = join(patch_root_dir, 'Clean')\n",
        "# noisy_patch_dir = join(patch_root_dir, 'Noisy')\n",
        "\n",
        "# if not isdir(clean_patch_dir):\n",
        "#   makedirs(clean_patch_dir)\n",
        "#   makedirs(noisy_patch_dir)\n",
        "\n",
        "# patch_list = []\n",
        "\n",
        "# clean_raw_image_dir = '/content/drive/MyDrive/Research/OCT datasets/Organised Dataset/Clean'\n",
        "# noisy_raw_image_dir = '/content/drive/MyDrive/Research/OCT datasets/Organised Dataset/Noisy'\n",
        "\n",
        "# for folder in sorted(os.listdir(clean_raw_image_dir)):\n",
        "#   clean_image_path = join(clean_raw_image_dir, folder, folder+'.jpg')\n",
        "#   noisy_image_path = join(noisy_raw_image_dir, folder, folder+'.jpg')\n",
        "\n",
        "#   clean_image = cv2.imread(clean_image_path,0)\n",
        "#   noisy_image = cv2.imread(noisy_image_path, 0)\n",
        "\n",
        "#   if(clean_image.shape != noisy_image.shape):\n",
        "#     print(f\"Shape mismatch {clean_image.shape} - {noisy_image.shape} - {folder}\")\n",
        "\n",
        "#   height, width = clean_image.shape\n",
        "\n",
        "#   clean_patch_folder_path = join(clean_patch_dir, folder)\n",
        "#   noisy_patch_folder_path = join(noisy_patch_dir, folder)\n",
        "#   mkdir(clean_patch_folder_path)\n",
        "#   mkdir(noisy_patch_folder_path)\n",
        "#   index = 1\n",
        "#   for h in range(height//PATCH_SIZE):\n",
        "#     # print(i)\n",
        "#     for w in range(width//PATCH_SIZE):\n",
        "#       # print(f\"j = {j}\")\n",
        "#       clean_patch = clean_image[h*PATCH_SIZE:(h+1)*PATCH_SIZE , w*PATCH_SIZE:(w+1)*PATCH_SIZE , ]\n",
        "#       clean_patch_image_path = join(clean_patch_folder_path, f\"{index:03d}.jpg\")\n",
        "#       cv2.imwrite(clean_patch_image_path, clean_patch)\n",
        "#       ######################\n",
        "#       noisy_patch = noisy_image[h*PATCH_SIZE:(h+1)*PATCH_SIZE , w*PATCH_SIZE:(w+1)*PATCH_SIZE , ]\n",
        "#       noisy_patch_image_path = join(noisy_patch_folder_path, f\"{index:03d}.jpg\")\n",
        "#       cv2.imwrite(noisy_patch_image_path, noisy_patch)\n",
        "\n",
        "#       # print(clean_patch_image_path, noisy_patch_image_path)\n",
        "\n",
        "\n",
        "#       patch_list.append([noisy_patch, clean_patch])\n",
        "#       index+=1\n",
        "\n",
        "#       # plt.subplot(1,2,1)\n",
        "#       # plt.imshow(noisy_patch, cmap='gray')\n",
        "#       # plt.subplot(1,2,2)\n",
        "#       # plt.imshow(clean_patch, cmap='gray')\n",
        "#   #     break\n",
        "#   #   break\n",
        "#   # break\n",
        "\n",
        " "
      ]
    },
    {
      "cell_type": "code",
      "execution_count": 13,
      "metadata": {
        "id": "Gnyf-vstBJ8s"
      },
      "outputs": [],
      "source": [
        "patch_data_dir = '/content/drive/MyDrive/Research/OCT datasets/Patch OCT Dataset'\n",
        "clean_data_dir = join(patch_data_dir, 'Clean')\n",
        "noisy_data_dir = join(patch_data_dir, 'Noisy')\n",
        "IMAGE_PATHS = []\n",
        "\n",
        "for folder in sorted(os.listdir(clean_data_dir)):\n",
        "  # print(folder)\n",
        "  clean_folder_path = join(clean_data_dir, folder)\n",
        "  noisy_folder_path = join(noisy_data_dir, folder)\n",
        "  # print(current_folder_path)\n",
        "  for img in sorted(os.listdir(clean_folder_path)):\n",
        "    # print(img)\n",
        "\n",
        "    clean_img_path = join(clean_folder_path, img)\n",
        "    noisy_img_path = join(noisy_folder_path, img)\n",
        "\n",
        "    IMAGE_PATHS.append([noisy_img_path, clean_img_path])\n",
        "    # print(clean_img_path, noisy_img_path)\n",
        "\n",
        "\n",
        "\n"
      ]
    },
    {
      "cell_type": "code",
      "execution_count": 14,
      "metadata": {
        "id": "VsXahUnmnSej",
        "colab": {
          "base_uri": "https://localhost:8080/"
        },
        "outputId": "c7cc9c0d-0ac6-4a87-bdee-66786338e8ba"
      },
      "outputs": [
        {
          "output_type": "execute_result",
          "data": {
            "text/plain": [
              "4708"
            ]
          },
          "metadata": {},
          "execution_count": 14
        }
      ],
      "source": [
        "len(IMAGE_PATHS)"
      ]
    },
    {
      "cell_type": "markdown",
      "metadata": {
        "id": "FXgJvjTzZOuF"
      },
      "source": [
        "#  Datasets and Dataloaders"
      ]
    },
    {
      "cell_type": "markdown",
      "metadata": {
        "id": "WWReRdgAZavz"
      },
      "source": [
        "## Creating Dataset"
      ]
    },
    {
      "cell_type": "markdown",
      "metadata": {
        "id": "1ESKqrRhZHyI"
      },
      "source": [
        "### Custom Dataset Class"
      ]
    },
    {
      "cell_type": "code",
      "execution_count": 15,
      "metadata": {
        "id": "esaUkDNEz5C2"
      },
      "outputs": [],
      "source": [
        "class CustomDataset(Dataset):\n",
        "\n",
        "  def __init__(self, paths, transform = None):\n",
        "    self.paths = paths\n",
        "    self.transform = transform\n",
        "\n",
        "  def __getitem__(self, index:int, ):\n",
        "\n",
        "    noisy_img = Image.open(self.paths[index][0])\n",
        "    clean_img = Image.open(self.paths[index][1])\n",
        "    # clean_img = transforms.functional.adjust_sharpness(clean_img,sharpness_factor=10)\n",
        "\n",
        "    if self.transform:\n",
        "      return self.transform(noisy_img), self.transform(clean_img)\n",
        "\n",
        "    return noisy_img, clean_img\n",
        "\n",
        "\n",
        "\n",
        "  def __len__(self):\n",
        "    return len(self.paths)\n",
        "\n"
      ]
    },
    {
      "cell_type": "markdown",
      "metadata": {
        "id": "KRvBb74zZgJI"
      },
      "source": [
        "### Transformations"
      ]
    },
    {
      "cell_type": "code",
      "execution_count": 16,
      "metadata": {
        "id": "xSX09R8L6hSt"
      },
      "outputs": [],
      "source": [
        "# defining Transforms Needed to be done on the Images\n",
        "trans = transforms.Compose([\n",
        "    # transforms.ToPILImage(),\n",
        "    # transforms.Resize((128,128)),\n",
        "\n",
        "    transforms.ToTensor(),\n",
        "    # transforms.Normalize((0.5), (0.5))\n",
        "])"
      ]
    },
    {
      "cell_type": "markdown",
      "metadata": {
        "id": "pGYGQSc0Zi61"
      },
      "source": [
        "### Dataset Instance"
      ]
    },
    {
      "cell_type": "code",
      "execution_count": 17,
      "metadata": {
        "id": "n-4k7fgk3xIy",
        "colab": {
          "base_uri": "https://localhost:8080/"
        },
        "outputId": "007ff4b9-b0c5-4d35-96c4-4448391379ca"
      },
      "outputs": [
        {
          "output_type": "execute_result",
          "data": {
            "text/plain": [
              "4708"
            ]
          },
          "metadata": {},
          "execution_count": 17
        }
      ],
      "source": [
        "# Dataset \n",
        "dataset = CustomDataset(IMAGE_PATHS, transform = trans)\n",
        "len(dataset)"
      ]
    },
    {
      "cell_type": "code",
      "execution_count": 95,
      "metadata": {
        "id": "PEKmRxJY-J_2",
        "colab": {
          "base_uri": "https://localhost:8080/",
          "height": 344
        },
        "outputId": "78869d63-df8e-403c-a1ac-e2632db61eba"
      },
      "outputs": [
        {
          "output_type": "execute_result",
          "data": {
            "text/plain": [
              "(-0.5, 63.5, 63.5, -0.5)"
            ]
          },
          "metadata": {},
          "execution_count": 95
        },
        {
          "output_type": "display_data",
          "data": {
            "text/plain": [
              "<Figure size 1296x1296 with 2 Axes>"
            ],
            "image/png": "[encoded data removed]"
          },
          "metadata": {
            "needs_background": "light"
          }
        }
      ],
      "source": [
        "plt.figure(figsize = (18,18))\n",
        "plt.subplot(1,2,1)\n",
        "plt.imshow(dataset[1][0].squeeze(), cmap = 'gray')\n",
        "plt.title('Noisy Image')\n",
        "plt.axis(\"off\")\n",
        "\n",
        "plt.subplot(1,2,2)\n",
        "plt.imshow(dataset[1][1].squeeze(), cmap = 'gray')\n",
        "plt.title('Clean Image')\n",
        "plt.axis(\"off\")"
      ]
    },
    {
      "cell_type": "markdown",
      "metadata": {
        "id": "CGTGbilb86rY"
      },
      "source": [
        "## BATCH SIZE"
      ]
    },
    {
      "cell_type": "code",
      "execution_count": 73,
      "metadata": {
        "id": "bRvWrJXh8-b1"
      },
      "outputs": [],
      "source": [
        "BATCH_SIZE = 256"
      ]
    },
    {
      "cell_type": "markdown",
      "metadata": {
        "id": "2yccvZVV_Whs"
      },
      "source": [
        "## Data Loader"
      ]
    },
    {
      "cell_type": "code",
      "source": [
        "start_time = timer()\n",
        "r = torch.tensor([32,1,64,64], device = DEVICE)\n",
        "print(timer()-start_time)"
      ],
      "metadata": {
        "colab": {
          "base_uri": "https://localhost:8080/"
        },
        "id": "h3kfsqfIpBvN",
        "outputId": "ddc92b44-c7bc-45a4-e833-9b0608345130"
      },
      "execution_count": 74,
      "outputs": [
        {
          "output_type": "stream",
          "name": "stdout",
          "text": [
            "0.0004893069999525324\n"
          ]
        }
      ]
    },
    {
      "cell_type": "code",
      "execution_count": 75,
      "metadata": {
        "id": "ksV8x3G34Vg8"
      },
      "outputs": [],
      "source": [
        "train_dl = DataLoader(dataset, batch_size = BATCH_SIZE, shuffle = True, pin_memory = True, num_workers = 2)\n"
      ]
    },
    {
      "cell_type": "code",
      "execution_count": 76,
      "metadata": {
        "id": "PMvSSm_Xtk1L",
        "colab": {
          "base_uri": "https://localhost:8080/"
        },
        "outputId": "18e6c150-34f2-4269-b8e1-294c1ef955df"
      },
      "outputs": [
        {
          "output_type": "execute_result",
          "data": {
            "text/plain": [
              "(torch.Size([256, 1, 64, 64]), torch.Size([256, 1, 64, 64]))"
            ]
          },
          "metadata": {},
          "execution_count": 76
        }
      ],
      "source": [
        "n,c = next(iter(train_dl))\n",
        "n.shape, c.shape"
      ]
    },
    {
      "cell_type": "code",
      "source": [
        "n.nelement()"
      ],
      "metadata": {
        "colab": {
          "base_uri": "https://localhost:8080/"
        },
        "id": "qkVvj3M_oXlF",
        "outputId": "1b6098b9-bd6b-46d4-950d-d3416b9eaa59"
      },
      "execution_count": 77,
      "outputs": [
        {
          "output_type": "execute_result",
          "data": {
            "text/plain": [
              "1048576"
            ]
          },
          "metadata": {},
          "execution_count": 77
        }
      ]
    },
    {
      "cell_type": "code",
      "source": [
        "n.element_size() * n.nelement()"
      ],
      "metadata": {
        "colab": {
          "base_uri": "https://localhost:8080/"
        },
        "id": "AEaBrwxpoGS3",
        "outputId": "70418e3a-56b6-48ea-f448-987f683f7ce1"
      },
      "execution_count": 78,
      "outputs": [
        {
          "output_type": "execute_result",
          "data": {
            "text/plain": [
              "4194304"
            ]
          },
          "metadata": {},
          "execution_count": 78
        }
      ]
    },
    {
      "cell_type": "code",
      "source": [
        "n.element_size()"
      ],
      "metadata": {
        "colab": {
          "base_uri": "https://localhost:8080/"
        },
        "id": "xXFa6LI8oTQe",
        "outputId": "3a90556c-57ec-4e17-9606-9fee81bb720e"
      },
      "execution_count": 79,
      "outputs": [
        {
          "output_type": "execute_result",
          "data": {
            "text/plain": [
              "4"
            ]
          },
          "metadata": {},
          "execution_count": 79
        }
      ]
    },
    {
      "cell_type": "markdown",
      "metadata": {
        "id": "MpcwDon__Z0t"
      },
      "source": [
        "# Model Creation and Training Testing"
      ]
    },
    {
      "cell_type": "markdown",
      "metadata": {
        "id": "JSjwDmfs_e7o"
      },
      "source": [
        "## Generator Model"
      ]
    },
    {
      "cell_type": "code",
      "execution_count": 80,
      "metadata": {
        "id": "Hx2hNFHk9VyE"
      },
      "outputs": [],
      "source": [
        "class Generator(nn.Module):\n",
        "\n",
        "  def __init__(self):\n",
        "    super().__init__()\n",
        "    self.encoder = nn.Sequential(\n",
        "            nn.Conv2d(1, 16, kernel_size=3, stride=2, padding=1),\n",
        "            nn.BatchNorm2d(16),\n",
        "            nn.ReLU(),\n",
        "            nn.Conv2d(16, 32, kernel_size=3, stride=2, padding=1),\n",
        "            nn.BatchNorm2d(32),\n",
        "            nn.ReLU(),\n",
        "            nn.Conv2d(32, 64, kernel_size=3, stride=2, padding=1),\n",
        "            nn.BatchNorm2d(64),\n",
        "            nn.ReLU(),\n",
        "            nn.Conv2d(64, 128, kernel_size=3, stride=2, padding=1),\n",
        "            nn.ReLU()\n",
        "        )\n",
        "        \n",
        "        # decoder layers\n",
        "    self.decoder = nn.Sequential(\n",
        "        nn.ConvTranspose2d(128, 64, kernel_size=4, stride=2, padding=1),\n",
        "        nn.BatchNorm2d(64),\n",
        "        nn.ReLU(),\n",
        "        nn.ConvTranspose2d(64, 32, kernel_size=4, stride=2, padding=1),\n",
        "        nn.BatchNorm2d(32),\n",
        "        nn.ReLU(),\n",
        "        nn.ConvTranspose2d(32, 16, kernel_size=4, stride=2, padding=1),\n",
        "        nn.BatchNorm2d(16),\n",
        "        nn.ReLU(),\n",
        "        nn.ConvTranspose2d(16, 1, kernel_size=4, stride=2, padding=1),\n",
        "        nn.Sigmoid()\n",
        "    )\n",
        "\n",
        "\n",
        "    self.apply(self._init_weights)\n",
        "\n",
        "  def _init_weights(self, module):\n",
        "    if isinstance(module, nn.Linear):\n",
        "      module.weight.data.normal_(mean=0.0, std=1.0)\n",
        "      if module.bias is not None:\n",
        "          module.bias.data.zero_()\n",
        "\n",
        "\n",
        "\n",
        "  def forward(self, x):\n",
        "    encoded = self.encoder(x)\n",
        "    # print(encoded.shape)\n",
        "    # print(f\"Shape of encoded: {encoded.shape}\")\n",
        "    decoded = self.decoder(encoded)\n",
        "    return decoded"
      ]
    },
    {
      "cell_type": "markdown",
      "metadata": {
        "id": "STH30FOvLGbS"
      },
      "source": [
        "### Test Generator Model"
      ]
    },
    {
      "cell_type": "code",
      "execution_count": 81,
      "metadata": {
        "id": "KJRQzhsBGhRM"
      },
      "outputs": [],
      "source": [
        "rand_img = torch.randn([32, 1, 64, 64])\n",
        "rand_img.shape\n",
        "generator = Generator()\n",
        "\n",
        "result = generator(rand_img)"
      ]
    },
    {
      "cell_type": "code",
      "execution_count": 82,
      "metadata": {
        "id": "SFNXpOK_J8g2",
        "colab": {
          "base_uri": "https://localhost:8080/",
          "height": 285
        },
        "outputId": "220a419a-1c44-4640-dd96-3ec4036894a2"
      },
      "outputs": [
        {
          "output_type": "stream",
          "name": "stdout",
          "text": [
            "torch.Size([1, 1, 64, 64])\n"
          ]
        },
        {
          "output_type": "display_data",
          "data": {
            "text/plain": [
              "<Figure size 432x288 with 1 Axes>"
            ],
            "image/png": "[encoded data removed]"
          },
          "metadata": {
            "needs_background": "light"
          }
        }
      ],
      "source": [
        "generator = Generator().to(DEVICE)\n",
        "\n",
        "x = n[0].unsqueeze(dim=1)\n",
        "\n",
        "result = generator(x.to(DEVICE))\n",
        "print(result.shape)\n",
        "with torch.inference_mode():\n",
        "  plt.imshow(result.squeeze().to('cpu'), cmap='gray')"
      ]
    },
    {
      "cell_type": "code",
      "execution_count": 83,
      "metadata": {
        "id": "ucUZwkAiX1Oe",
        "colab": {
          "base_uri": "https://localhost:8080/",
          "height": 211
        },
        "outputId": "2c242f92-a307-4b36-cbc6-14b52fa5c7bf"
      },
      "outputs": [
        {
          "output_type": "display_data",
          "data": {
            "text/plain": [
              "<Figure size 720x720 with 3 Axes>"
            ],
            "image/png": "[encoded data removed]"
          },
          "metadata": {
            "needs_background": "light"
          }
        }
      ],
      "source": [
        "test_noisy_image = n[0].to(DEVICE)\n",
        "gen_clean_image = generator(test_noisy_image.unsqueeze(dim=1)).squeeze()\n",
        "real_clean_image = c[0]\n",
        "\n",
        "\n",
        "fig = plt.figure(figsize = (10,10))\n",
        "with torch.inference_mode():\n",
        "  fig.add_subplot(1,3,1)\n",
        "  plt.imshow(test_noisy_image.squeeze().to('cpu'), cmap='gray')\n",
        "  plt.title(\"Real Noisy Image\")\n",
        "  plt.axis('off')\n",
        "\n",
        "  fig.add_subplot(1,3,2)\n",
        "  plt.imshow(gen_clean_image.to('cpu'), cmap='gray')\n",
        "  plt.title(\"Fake Clean Image: Not Trained\")\n",
        "  plt.axis('off')\n",
        "\n",
        "  fig.add_subplot(1,3,3)\n",
        "  plt.imshow(real_clean_image.squeeze().to('cpu'), cmap='gray')\n",
        "  plt.title(\"Real Clean Image\")\n",
        "  plt.axis('off')"
      ]
    },
    {
      "cell_type": "markdown",
      "metadata": {
        "id": "EWGunl6CKDnk"
      },
      "source": [
        "## Discriminitor "
      ]
    },
    {
      "cell_type": "code",
      "execution_count": 84,
      "metadata": {
        "id": "toNh3P9QMe2-"
      },
      "outputs": [],
      "source": [
        "class Discriminator(nn.Module):\n",
        "  def __init__(self, input_shape, output_shape):\n",
        "    super().__init__()\n",
        "\n",
        "    self.block_1 = nn.Sequential(\n",
        "        \n",
        "        nn.Conv2d(\n",
        "            in_channels = input_shape, \n",
        "            out_channels = 64,\n",
        "            kernel_size = 3,\n",
        "            # padding=1,\n",
        "            # stride=1,\n",
        "        ),\n",
        "        nn.BatchNorm2d(64),\n",
        "        nn.ReLU(),\n",
        "\n",
        "        nn.MaxPool2d(\n",
        "            kernel_size = 2,\n",
        "            # stride=2,\n",
        "        ),\n",
        "\n",
        "        # \n",
        "        nn.Conv2d(\n",
        "            in_channels = 64, \n",
        "            out_channels = 128,\n",
        "            kernel_size = 3,\n",
        "            # padding=1,\n",
        "            # stride=1,\n",
        "\n",
        "        ),\n",
        "        nn.BatchNorm2d(128),\n",
        "        nn.ReLU(),\n",
        "\n",
        "        nn.MaxPool2d(\n",
        "            kernel_size = 2,\n",
        "            # stride=2,\n",
        "        ),\n",
        "        # \n",
        "\n",
        "        nn.Conv2d(\n",
        "            in_channels = 128, \n",
        "            out_channels = 256,\n",
        "            kernel_size = 3,\n",
        "            # padding=1,\n",
        "            # stride=1,\n",
        "\n",
        "        ),\n",
        "        nn.BatchNorm2d(256),\n",
        "        nn.ReLU(),\n",
        "\n",
        "        nn.MaxPool2d(\n",
        "            kernel_size = 2,\n",
        "            # stride=2,\n",
        "        ),\n",
        "        # \n",
        "\n",
        "        nn.Conv2d(\n",
        "            in_channels = 256, \n",
        "            out_channels = 512,\n",
        "            kernel_size = 3,\n",
        "            # padding=1,\n",
        "            # stride=1,\n",
        "\n",
        "        ),\n",
        "        nn.BatchNorm2d(512),\n",
        "        nn.ReLU(),\n",
        "\n",
        "        nn.MaxPool2d(\n",
        "            kernel_size = 2,\n",
        "            # stride=2,\n",
        "        ),\n",
        "\n",
        "\n",
        "    )\n",
        "\n",
        "\n",
        "    self.classifier = nn.Sequential(\n",
        "        nn.Flatten(),\n",
        "        nn.Linear(in_features = 512*2*2, out_features = 1024),\n",
        "        nn.ReLU(),\n",
        "        nn.Linear(in_features = 1024, out_features = output_shape)\n",
        "\n",
        "    )\n",
        "  \n",
        "  def forward(self, x):\n",
        "    x = self.block_1(x)\n",
        "    # x = self.block_2(x)\n",
        "    # print(x.shape)\n",
        "    x = self.classifier(x)\n",
        "\n",
        "    return x\n",
        "\n",
        "\n",
        "\n"
      ]
    },
    {
      "cell_type": "markdown",
      "metadata": {
        "id": "iUDu02I2LOrL"
      },
      "source": [
        "### Test Discriminator"
      ]
    },
    {
      "cell_type": "code",
      "execution_count": 85,
      "metadata": {
        "id": "tO41k3t9Gli0",
        "colab": {
          "base_uri": "https://localhost:8080/"
        },
        "outputId": "10e63499-68fa-448f-e897-7be33fe8ad7c"
      },
      "outputs": [
        {
          "output_type": "stream",
          "name": "stdout",
          "text": [
            "torch.Size([20, 1])\n"
          ]
        }
      ],
      "source": [
        "# Test Discriminator\n",
        "discriminator = Discriminator(1,1).to(DEVICE)\n",
        "x = torch.rand(size = [20,1,64,64]).to(DEVICE)\n",
        "\n",
        "r = discriminator(x)\n",
        "print(r.shape)\n"
      ]
    },
    {
      "cell_type": "markdown",
      "metadata": {
        "id": "UG6V12NmKNBV"
      },
      "source": [
        "## Hyperparameters"
      ]
    },
    {
      "cell_type": "code",
      "execution_count": 86,
      "metadata": {
        "id": "fHhKGtAf_tmC"
      },
      "outputs": [],
      "source": [
        "mseloss = nn.MSELoss()\n",
        "bceloss = nn.BCEWithLogitsLoss()\n",
        "\n",
        "\n",
        "optim_d = torch.optim.Adam(discriminator.parameters(), lr = 0.001, weight_decay=1e-5)\n",
        "optim_g = torch.optim.Adam(generator.parameters(), lr = 0.001, weight_decay=1e-5)"
      ]
    },
    {
      "cell_type": "markdown",
      "metadata": {
        "id": "n3pCrOaOLhf2"
      },
      "source": [
        "## Train Step"
      ]
    },
    {
      "cell_type": "code",
      "execution_count": 87,
      "metadata": {
        "id": "vQxmiKsnLkPX"
      },
      "outputs": [],
      "source": [
        "import torch.nn.functional as F\n",
        "\n",
        "\n",
        "def train_discriminator(noisy_images, clean_images, optimizer_d):\n",
        "  optimizer_d.zero_grad()\n",
        "\n",
        "  preds_for_real = discriminator(clean_images)\n",
        "  targets_for_real = torch.ones(clean_images.size(0), 1, device = DEVICE)\n",
        "  \n",
        "  loss_for_real = bceloss(preds_for_real, targets_for_real)\n",
        "  real_score = torch.mean(preds_for_real).item()\n",
        "\n",
        "\n",
        "\n",
        "  fake_clean_images = generator(noisy_images)\n",
        "\n",
        "\n",
        "  preds_for_fake = discriminator(fake_clean_images)\n",
        "  targets_for_fake = torch.zeros(fake_clean_images.size(0), 1, device = DEVICE)\n",
        "\n",
        "  loss_for_fake = bceloss(preds_for_fake, targets_for_fake)\n",
        "\n",
        "  fake_score = torch.mean(preds_for_fake).item()\n",
        "\n",
        "  diff_in_images = mseloss(clean_images, fake_clean_images)\n",
        "  # print(f\"Disc Diff in Images: {diff_in_images}\")\n",
        "\n",
        "  loss = loss_for_real + loss_for_fake \n",
        "  print(diff_in_images, loss_for_real, loss_for_fake)\n",
        "  \n",
        "  loss.backward()\n",
        "\n",
        "  optimizer_d.step()\n",
        "\n",
        "  return loss.item(), real_score, fake_score\n",
        "\n",
        "\n"
      ]
    },
    {
      "cell_type": "code",
      "execution_count": 88,
      "metadata": {
        "id": "arPrn3IxRP18"
      },
      "outputs": [],
      "source": [
        "def train_generator(noisy_images, real_images, optimizer_g):\n",
        "\n",
        "  optimizer_g.zero_grad()\n",
        "\n",
        "\n",
        "  fake_images = generator(noisy_images)\n",
        "\n",
        "  preds_for_fake = discriminator(fake_images)\n",
        "\n",
        "  false_targets_for_fake = torch.ones(fake_images.size(0), 1, device = DEVICE)\n",
        "  diff_in_images = mseloss(real_images, fake_images)\n",
        "  # print(f\"Diff in Images: {diff_in_images}\")\n",
        "  generator_loss = bceloss(preds_for_fake, false_targets_for_fake)\n",
        "\n",
        "  # total_loss = generator_loss \n",
        "  generator_loss.backward()\n",
        "  optimizer_g.step()\n",
        "\n",
        "  return generator_loss.item()"
      ]
    },
    {
      "cell_type": "markdown",
      "metadata": {
        "id": "EZ3gdc9xKU2p"
      },
      "source": [
        "## Train-Test"
      ]
    },
    {
      "cell_type": "code",
      "execution_count": 89,
      "metadata": {
        "id": "Y9Ib51BIpzvE"
      },
      "outputs": [],
      "source": [
        "def show_sample():\n",
        "  test_noisy_image = n[0].to(DEVICE)\n",
        "  gen_clean_image = generator(test_noisy_image.unsqueeze(dim=1)).squeeze()\n",
        "  real_clean_image = c[0]\n",
        "\n",
        "  fig = plt.figure(figsize = (10,10))\n",
        "\n",
        "  with torch.inference_mode():\n",
        "    fig.add_subplot(1,3,1)\n",
        "    plt.imshow(test_noisy_image.squeeze().to('cpu'), cmap='gray')\n",
        "    plt.title(\"Real Noisy Image\")\n",
        "    plt.axis('off')\n",
        "\n",
        "    fig.add_subplot(1,3,2)\n",
        "    plt.imshow(gen_clean_image.to('cpu'), cmap='gray')\n",
        "    plt.title(\"Fake Clean Image\")\n",
        "    plt.axis('off')\n",
        "\n",
        "    fig.add_subplot(1,3,3)\n",
        "    plt.imshow(real_clean_image.squeeze(), cmap='gray')\n",
        "    plt.title(\"Real Clean Image\")\n",
        "    plt.axis('off')\n",
        "\n",
        "    plt.show()"
      ]
    },
    {
      "cell_type": "code",
      "execution_count": 90,
      "metadata": {
        "id": "7yKFooss_3Un"
      },
      "outputs": [],
      "source": [
        "from tqdm.notebook import tqdm\n",
        "Images = []\n",
        "def fit(EPOCHS, start_idx= 1):\n",
        "  torch.cuda.empty_cache()\n",
        "\n",
        "  Gen_Loss = []\n",
        "  Dis_Loss = []\n",
        "\n",
        "  Real_Scores = []\n",
        "  Fake_Scores = []\n",
        "\n",
        "\n",
        "\n",
        "  for epoch in tqdm(range(EPOCHS)):\n",
        "\n",
        "    for noisy_images, clean_images in tqdm(train_dl):\n",
        "      noisy_images = noisy_images.to(DEVICE)\n",
        "      clean_images = clean_images.to(DEVICE)\n",
        "\n",
        "      # loss_d, real_score, fake_score = train_discriminator(noisy_images, clean_images, optim_d)\n",
        "      # loss_g = train_generator(noisy_images, clean_images, optim_g)\n",
        "\n",
        "      optim_g.zero_grad()\n",
        "      res = generator(noisy_images)\n",
        "      psnr = PSNR(clean_images, res)\n",
        "      loss = mseloss(res, clean_images)\n",
        "\n",
        "      loss.backward()\n",
        "      optim_g.step()\n",
        "\n",
        "\n",
        "    print(loss.item())\n",
        "    print(f\"EPOCH: {epoch+1} | MSE Loss: {loss.item():.4f} | PSNR: {psnr:.4f}\")\n",
        "\n",
        "\n",
        "    # Gen_Loss.append(loss_g)\n",
        "    # Dis_Loss.append(loss_d)\n",
        "    # Real_Scores.append(real_score)\n",
        "    # Fake_Scores.append(fake_score)\n",
        "\n",
        "    # show_sample()\n",
        "    test_noisy_image = n[0].to(DEVICE)\n",
        "    gen_clean_image = generator(test_noisy_image.unsqueeze(dim=1)).squeeze()\n",
        "    real_clean_image = c[0]\n",
        "    Images.append([test_noisy_image.to('cpu'),gen_clean_image.to('cpu'), real_clean_image])\n",
        "    # print(f\"EPOCH: {epoch+1} | Gen Loss: {loss_g:.4f} |  Dis Loss: {loss_d:.4f} | Real Score: {real_score:.4f}  |  Fake_score: {fake_score:.4f} \\n\\n\")\n",
        "\n",
        "    # save_samples(epoch+start_idx, fixed_latent, show = False)\n",
        "  \n",
        "  return Gen_Loss, Dis_Loss, Real_Scores, Fake_Scores\n"
      ]
    },
    {
      "cell_type": "code",
      "source": [
        "from math import log10,sqrt\n",
        "def PSNR(original, compressed):\n",
        "    mse = torch.mean((torch.sub(original, compressed)) ** 2)\n",
        "    if(mse == 0):  # MSE is zero means no noise is present in the signal .\n",
        "                  # Therefore PSNR have no importance.\n",
        "        return 100\n",
        "    max_pixel = torch.max(original)\n",
        "    psnr = 20 * log10(max_pixel / sqrt(mse))\n",
        "    return psnr"
      ],
      "metadata": {
        "id": "6EgQt2LRX4Ha"
      },
      "execution_count": 91,
      "outputs": []
    },
    {
      "cell_type": "code",
      "source": [
        "PSNR(torch.rand([32,1,64,64]),torch.rand([32,1,64,64]))\n"
      ],
      "metadata": {
        "colab": {
          "base_uri": "https://localhost:8080/"
        },
        "id": "kTqLOXHqjPBd",
        "outputId": "4c700fc4-4e15-43fb-f96b-cc65eed200a3"
      },
      "execution_count": 92,
      "outputs": [
        {
          "output_type": "execute_result",
          "data": {
            "text/plain": [
              "7.800178491097995"
            ]
          },
          "metadata": {},
          "execution_count": 92
        }
      ]
    },
    {
      "cell_type": "code",
      "execution_count": 94,
      "metadata": {
        "colab": {
          "base_uri": "https://localhost:8080/",
          "height": 743,
          "referenced_widgets": [
            "66736f05d7574c3bb8c7af8b16ad3f12",
            "ca1c380e321c4db9b1b3563ac8baa795",
            "ec155008df8d419bbf4639e02d401ae1",
            "efeb2cf3e17a48218660bb076b1706d6",
            "1c8a23246ec540fdb67398d25a861813",
            "883e2d4d4cd0406f8053b6006fee7197",
            "da2b81d8a4bd49eb9707adaa2d44e6a5",
            "bd7b367b96714e38ae86e808fde2ab4b",
            "85421d17e2304114b8e503c78ad2a5ed",
            "6096d4cce03c49db8f4213968d112097",
            "110fa3d4ae004e6db81408053f33e2bc",
            "a22dba0b7934430c860014e9302270e2",
            "8093c1472d63443a8add29bc9b6d4445",
            "b34a1deb1d0544dbb7d186542d173c2c",
            "15a282d553dc4df29309e275b3db8f71",
            "74e5d0ba5cff4c388876aed796f17164",
            "f256e91dc93a488ebe04a7d72db1928c",
            "dbee8ef261d842a8be546f0a173ac388",
            "1d91e678f73341a399e563ba01411b14",
            "0698cbb0a7574aeca57a9a0c40b1b62d",
            "6b2c44b728bb4735848548f3c03e6aeb",
            "ee7b60162e104c40af224c6ed56d0efe",
            "25116ccbb41847ecb34ec51f75822980",
            "829a6e5a198c465385aa24f92c3775bd",
            "b49556a64aba4d759719f76f1bf1cddb",
            "ab378bbc2e5d4e4a98f8726f604edcae",
            "c10353d9f5fe4d8d921b58692d37998e",
            "d8c304e6ec26455bb7042c0c0cdfb384",
            "a6d715f73c74498894f914aab12c1e38",
            "e3aafd92e6e340bbb393eea3b0dbbde6",
            "957718c76bf74416a9ccbcfa999c09b2",
            "6a9faff9f19d4bbdafd26150ca188873",
            "4797726c585a43a6b4ed3f108bd2762c",
            "a65a4eb11d354e2d827ebe6f055118d7",
            "f8e303c861874dee88387a868de5ea1e",
            "cb3356d09f6f4272a062eba9c8dd160a",
            "20a865233f6040b187b473679de190eb",
            "0093970ac20b4d2d8d720f2a30f662da",
            "28aafb9c87d14af4a455ee9aef64b4e1",
            "eb92db4d2b224595abcc5de24bf2ebb3",
            "0bcc227f72d248f18760dcef748a6ebf",
            "30936ba0b09845d8ba8b4d742cb515e9",
            "71e91dd017c4467caae3f70069227f4f",
            "87c931a176894693be6622da94c872ec",
            "7f2c1c392c3548e68cb2cb1ff6b49a7d",
            "40d40dec7c434cec849e47655a463fdf",
            "e8204447a640456aa61478041af5b8a4",
            "6b07d50630ef425180c8d9fc62e3882f",
            "918543d886ea49f18b2485488f7162e4",
            "df4a01a135e84a65830745b4d4993635",
            "002bb382d23040d89a3715114cf37a50",
            "4d4642e474bd4fb69b3af0041410dd20",
            "953b7e523c594bb7a1225d348b9c34bd",
            "3386d7ffad9147229a52232a307757e1",
            "e124980510e446aeb4301654fdd11784",
            "46d07317fead4152931ff5f1a68a4374",
            "1231b42cdb5f4fb8971846fd6453fa7c",
            "547ee2353bc647be84d5b771fe7fae0f",
            "b95dc48552da48a08830fe94dac17147",
            "afbca21c37d645639ae57caecd5b69d9",
            "f62e9d434fb54b3ab46c1a7ef2f2b85e",
            "3da3604ee3f545f69de133ec14323add",
            "c0fc234a4ac647e3afdfa6cc14dc781b",
            "b7aca3e77bbd4ef6894558407ee0b7a6",
            "9666ee5755524f03aa8cc9f8827bd08e",
            "86511706ffbd4bd9b27529b0c2c7d951",
            "b786416312e3472e8ede9f8a1b508841",
            "51314262b2a9428ab7a854542d4cbffc",
            "35431872de574cd18bcd216990137f69",
            "40309d53870d444cbdb4b47cf75eae02",
            "c7dad93d36e14c33a28e7b240e5c4082",
            "16cb8e7489404914a3f9ccc9042b4a28",
            "93f191a9d16946d6b9926731895c3378",
            "e3f84943f5994bbba9f1147acbee4e85",
            "1d31c069a42240759fe1219a4d71dca2",
            "989a9b6451784c46a6f7b63dc3bf369f",
            "7c6da79e493240259cd18fc9f49e9c0c",
            "8f42af9c34f343b486e13c4d9c4039ef",
            "7ae6aa9bd45a4c68a0cde4f8d66f8a6e",
            "c6574ead6b364686b4c068d8e8dac5ab",
            "533d3025cbab4c2b932f0c7f95c96a27",
            "de982ca73827425a9f3c0dbf2f40b86f",
            "92139a14118a447a9dffb038579f5f94",
            "a8d68e13b2fb4cc1b3111ecee34fbdf7",
            "26e958ea83334fe5a17991765694cee7",
            "0a2ebe3f4c564cbebd826464656d8ceb",
            "be4d2e3d7491478ea85dfa0ffb94612c",
            "3e7aacb0e5e444ac91a7e238453d25bf",
            "45d5695782f545698a231b23d9b42fcf",
            "3cb9ffc64ca447b38c1d2d85b11d6d6c",
            "e4c14e2411b144c799d8699c00d79b72",
            "4a3e4aa5934b44f5ac62c0958d3b24e6",
            "95a76831adbc4b95a268164e8f3dd148",
            "84b854db2e7746e6b4823be0da91612b",
            "53562faf9ebc4c92a75cb167bfc2c6a0",
            "94d8f5a8975348f9b4d739ec20cfd761",
            "144f45601be94813a6e1d3fb095b5b43",
            "fc33f2ffdd73467b93c0306b1b305eec",
            "29e4c79c355c4ecd944d15b8f0d847f6",
            "c5951b945df4497daf4395c2d283111f",
            "311d68cd9c694da88b7bb384e24507e4",
            "28c3e5935ea04ce384c8d0c8d203541a",
            "07b91d91a27c4fefaf339a70708bad99",
            "0d9b877b89bf48888d5df668bd1bc778",
            "12dd0c95e9e247c29a99e4c78f0d3729",
            "2c6d7738289f4cca839d2a288204ec48",
            "93979c46c98f47839d3945eea188f306",
            "3f80f26e22e9440e92eb91c10175bdea",
            "eaa9c97b967042f1b151191e376cffb4",
            "395ee7a5b4014ea1bbc351e575c1a9bc",
            "e660e605d6f7429d8f458e5a5217cec8",
            "4a79ed99363e499cb374393e61213334",
            "d7c321c8909141e9be34d6bfc63064e1",
            "75c1a90184c346868b04e2bc32e7c8da",
            "307cb4f51e3d4af68decd2f6ff3e11b5",
            "cc0776b06b974cf4af18d3d24ab3259d",
            "4e8d32ea13474c7d8d66b665be7e827b",
            "07412ab064c545648f751e19da860233",
            "282c42d037064cb9be401ae221a20b1c",
            "35361ec0046e4c1d9f1d9d900871461a",
            "1a803f50df524a6e9993ae0d38d79512"
          ]
        },
        "id": "-_-yL6V0As72",
        "outputId": "f392c775-a4f4-4c9a-866c-f4867c7b3eb9"
      },
      "outputs": [
        {
          "output_type": "display_data",
          "data": {
            "text/plain": [
              "  0%|          | 0/10 [00:00<?, ?it/s]"
            ],
            "application/vnd.jupyter.widget-view+json": {
              "version_major": 2,
              "version_minor": 0,
              "model_id": "66736f05d7574c3bb8c7af8b16ad3f12"
            }
          },
          "metadata": {}
        },
        {
          "output_type": "display_data",
          "data": {
            "text/plain": [
              "  0%|          | 0/19 [00:00<?, ?it/s]"
            ],
            "application/vnd.jupyter.widget-view+json": {
              "version_major": 2,
              "version_minor": 0,
              "model_id": "a22dba0b7934430c860014e9302270e2"
            }
          },
          "metadata": {}
        },
        {
          "output_type": "stream",
          "name": "stdout",
          "text": [
            "0.010199835523962975\n",
            "EPOCH: 1 | MSE Loss: 0.0102 | PSNR: 19.8457\n"
          ]
        },
        {
          "output_type": "display_data",
          "data": {
            "text/plain": [
              "  0%|          | 0/19 [00:00<?, ?it/s]"
            ],
            "application/vnd.jupyter.widget-view+json": {
              "version_major": 2,
              "version_minor": 0,
              "model_id": "25116ccbb41847ecb34ec51f75822980"
            }
          },
          "metadata": {}
        },
        {
          "output_type": "stream",
          "name": "stdout",
          "text": [
            "0.004261841997504234\n",
            "EPOCH: 2 | MSE Loss: 0.0043 | PSNR: 23.6356\n"
          ]
        },
        {
          "output_type": "display_data",
          "data": {
            "text/plain": [
              "  0%|          | 0/19 [00:00<?, ?it/s]"
            ],
            "application/vnd.jupyter.widget-view+json": {
              "version_major": 2,
              "version_minor": 0,
              "model_id": "a65a4eb11d354e2d827ebe6f055118d7"
            }
          },
          "metadata": {}
        },
        {
          "output_type": "stream",
          "name": "stdout",
          "text": [
            "0.003017112612724304\n",
            "EPOCH: 3 | MSE Loss: 0.0030 | PSNR: 25.0321\n"
          ]
        },
        {
          "output_type": "display_data",
          "data": {
            "text/plain": [
              "  0%|          | 0/19 [00:00<?, ?it/s]"
            ],
            "application/vnd.jupyter.widget-view+json": {
              "version_major": 2,
              "version_minor": 0,
              "model_id": "7f2c1c392c3548e68cb2cb1ff6b49a7d"
            }
          },
          "metadata": {}
        },
        {
          "output_type": "stream",
          "name": "stdout",
          "text": [
            "0.0026864141691476107\n",
            "EPOCH: 4 | MSE Loss: 0.0027 | PSNR: 25.3962\n"
          ]
        },
        {
          "output_type": "display_data",
          "data": {
            "text/plain": [
              "  0%|          | 0/19 [00:00<?, ?it/s]"
            ],
            "application/vnd.jupyter.widget-view+json": {
              "version_major": 2,
              "version_minor": 0,
              "model_id": "46d07317fead4152931ff5f1a68a4374"
            }
          },
          "metadata": {}
        },
        {
          "output_type": "stream",
          "name": "stdout",
          "text": [
            "0.0025923948269337416\n",
            "EPOCH: 5 | MSE Loss: 0.0026 | PSNR: 25.6562\n"
          ]
        },
        {
          "output_type": "display_data",
          "data": {
            "text/plain": [
              "  0%|          | 0/19 [00:00<?, ?it/s]"
            ],
            "application/vnd.jupyter.widget-view+json": {
              "version_major": 2,
              "version_minor": 0,
              "model_id": "b786416312e3472e8ede9f8a1b508841"
            }
          },
          "metadata": {}
        },
        {
          "output_type": "stream",
          "name": "stdout",
          "text": [
            "0.002359183272346854\n",
            "EPOCH: 6 | MSE Loss: 0.0024 | PSNR: 26.1004\n"
          ]
        },
        {
          "output_type": "display_data",
          "data": {
            "text/plain": [
              "  0%|          | 0/19 [00:00<?, ?it/s]"
            ],
            "application/vnd.jupyter.widget-view+json": {
              "version_major": 2,
              "version_minor": 0,
              "model_id": "8f42af9c34f343b486e13c4d9c4039ef"
            }
          },
          "metadata": {}
        },
        {
          "output_type": "stream",
          "name": "stdout",
          "text": [
            "0.0018996172584593296\n",
            "EPOCH: 7 | MSE Loss: 0.0019 | PSNR: 27.0760\n"
          ]
        },
        {
          "output_type": "display_data",
          "data": {
            "text/plain": [
              "  0%|          | 0/19 [00:00<?, ?it/s]"
            ],
            "application/vnd.jupyter.widget-view+json": {
              "version_major": 2,
              "version_minor": 0,
              "model_id": "45d5695782f545698a231b23d9b42fcf"
            }
          },
          "metadata": {}
        },
        {
          "output_type": "stream",
          "name": "stdout",
          "text": [
            "0.002855464816093445\n",
            "EPOCH: 8 | MSE Loss: 0.0029 | PSNR: 25.3404\n"
          ]
        },
        {
          "output_type": "display_data",
          "data": {
            "text/plain": [
              "  0%|          | 0/19 [00:00<?, ?it/s]"
            ],
            "application/vnd.jupyter.widget-view+json": {
              "version_major": 2,
              "version_minor": 0,
              "model_id": "c5951b945df4497daf4395c2d283111f"
            }
          },
          "metadata": {}
        },
        {
          "output_type": "stream",
          "name": "stdout",
          "text": [
            "0.0019032604759559035\n",
            "EPOCH: 9 | MSE Loss: 0.0019 | PSNR: 27.0330\n"
          ]
        },
        {
          "output_type": "display_data",
          "data": {
            "text/plain": [
              "  0%|          | 0/19 [00:00<?, ?it/s]"
            ],
            "application/vnd.jupyter.widget-view+json": {
              "version_major": 2,
              "version_minor": 0,
              "model_id": "e660e605d6f7429d8f458e5a5217cec8"
            }
          },
          "metadata": {}
        },
        {
          "output_type": "stream",
          "name": "stdout",
          "text": [
            "0.002156072063371539\n",
            "EPOCH: 10 | MSE Loss: 0.0022 | PSNR: 26.4566\n",
            "\n",
            "Total Time Taken: 1485.1227410309994 seconds\n"
          ]
        }
      ],
      "source": [
        "EPOCHS = 10\n",
        "from timeit import default_timer as timer\n",
        "\n",
        "start_time = timer()\n",
        "history = fit(EPOCHS, )\n",
        "end_time = timer()\n",
        "\n",
        "print(f\"\\nTotal Time Taken: {end_time-start_time} seconds\")\n"
      ]
    },
    {
      "cell_type": "code",
      "execution_count": null,
      "metadata": {
        "id": "troKCqGKeEkY"
      },
      "outputs": [],
      "source": [
        "show_sample()"
      ]
    },
    {
      "cell_type": "code",
      "execution_count": null,
      "metadata": {
        "id": "ep70m5EHmjOI"
      },
      "outputs": [],
      "source": [
        "plt.figure(figsize=(15, 12))\n",
        "plt.suptitle(\"Noisy-Fake-Clean\", fontsize=18, y=0.95)\n",
        "cols = 3\n",
        "rows = EPOCHS\n",
        "with torch.inference_mode():\n",
        "  index = 1\n",
        "  for i in range(rows*cols):\n",
        "    for j in range(3):\n",
        "      if index>rows*cols:\n",
        "        break\n",
        "      plt.subplot(rows,cols,index) \n",
        "      plt.imshow(Images[i][j].squeeze().to('cpu'), 'gray')\n",
        "      index+=1\n"
      ]
    }
  ],
  "metadata": {
    "accelerator": "GPU",
    "colab": {
      "toc_visible": true,
      "provenance": [],
      "authorship_tag": "ABX9TyOc/hD3FpjVG3IOwTlsIyv6",
      "include_colab_link": true
    },
    "gpuClass": "standard",
    "kernelspec": {
      "display_name": "Python 3",
      "name": "python3"
    },
    "language_info": {
      "name": "python"
    },
    "widgets": {
      "application/vnd.jupyter.widget-state+json": {
        "66736f05d7574c3bb8c7af8b16ad3f12": {
          "model_module": "@jupyter-widgets/controls",
          "model_name": "HBoxModel",
          "model_module_version": "1.5.0",
          "state": {
            "_dom_classes": [],
            "_model_module": "@jupyter-widgets/controls",
            "_model_module_version": "1.5.0",
            "_model_name": "HBoxModel",
            "_view_count": null,
            "_view_module": "@jupyter-widgets/controls",
            "_view_module_version": "1.5.0",
            "_view_name": "HBoxView",
            "box_style": "",
            "children": [
              "IPY_MODEL_ca1c380e321c4db9b1b3563ac8baa795",
              "IPY_MODEL_ec155008df8d419bbf4639e02d401ae1",
              "IPY_MODEL_efeb2cf3e17a48218660bb076b1706d6"
            ],
            "layout": "IPY_MODEL_1c8a23246ec540fdb67398d25a861813"
          }
        },
        "ca1c380e321c4db9b1b3563ac8baa795": {
          "model_module": "@jupyter-widgets/controls",
          "model_name": "HTMLModel",
          "model_module_version": "1.5.0",
          "state": {
            "_dom_classes": [],
            "_model_module": "@jupyter-widgets/controls",
            "_model_module_version": "1.5.0",
            "_model_name": "HTMLModel",
            "_view_count": null,
            "_view_module": "@jupyter-widgets/controls",
            "_view_module_version": "1.5.0",
            "_view_name": "HTMLView",
            "description": "",
            "description_tooltip": null,
            "layout": "IPY_MODEL_883e2d4d4cd0406f8053b6006fee7197",
            "placeholder": "​",
            "style": "IPY_MODEL_da2b81d8a4bd49eb9707adaa2d44e6a5",
            "value": "100%"
          }
        },
        "ec155008df8d419bbf4639e02d401ae1": {
          "model_module": "@jupyter-widgets/controls",
          "model_name": "FloatProgressModel",
          "model_module_version": "1.5.0",
          "state": {
            "_dom_classes": [],
            "_model_module": "@jupyter-widgets/controls",
            "_model_module_version": "1.5.0",
            "_model_name": "FloatProgressModel",
            "_view_count": null,
            "_view_module": "@jupyter-widgets/controls",
            "_view_module_version": "1.5.0",
            "_view_name": "ProgressView",
            "bar_style": "success",
            "description": "",
            "description_tooltip": null,
            "layout": "IPY_MODEL_bd7b367b96714e38ae86e808fde2ab4b",
            "max": 10,
            "min": 0,
            "orientation": "horizontal",
            "style": "IPY_MODEL_85421d17e2304114b8e503c78ad2a5ed",
            "value": 10
          }
        },
        "efeb2cf3e17a48218660bb076b1706d6": {
          "model_module": "@jupyter-widgets/controls",
          "model_name": "HTMLModel",
          "model_module_version": "1.5.0",
          "state": {
            "_dom_classes": [],
            "_model_module": "@jupyter-widgets/controls",
            "_model_module_version": "1.5.0",
            "_model_name": "HTMLModel",
            "_view_count": null,
            "_view_module": "@jupyter-widgets/controls",
            "_view_module_version": "1.5.0",
            "_view_name": "HTMLView",
            "description": "",
            "description_tooltip": null,
            "layout": "IPY_MODEL_6096d4cce03c49db8f4213968d112097",
            "placeholder": "​",
            "style": "IPY_MODEL_110fa3d4ae004e6db81408053f33e2bc",
            "value": " 10/10 [24:45&lt;00:00, 29.88s/it]"
          }
        },
        "1c8a23246ec540fdb67398d25a861813": {
          "model_module": "@jupyter-widgets/base",
          "model_name": "LayoutModel",
          "model_module_version": "1.2.0",
          "state": {
            "_model_module": "@jupyter-widgets/base",
            "_model_module_version": "1.2.0",
            "_model_name": "LayoutModel",
            "_view_count": null,
            "_view_module": "@jupyter-widgets/base",
            "_view_module_version": "1.2.0",
            "_view_name": "LayoutView",
            "align_content": null,
            "align_items": null,
            "align_self": null,
            "border": null,
            "bottom": null,
            "display": null,
            "flex": null,
            "flex_flow": null,
            "grid_area": null,
            "grid_auto_columns": null,
            "grid_auto_flow": null,
            "grid_auto_rows": null,
            "grid_column": null,
            "grid_gap": null,
            "grid_row": null,
            "grid_template_areas": null,
            "grid_template_columns": null,
            "grid_template_rows": null,
            "height": null,
            "justify_content": null,
            "justify_items": null,
            "left": null,
            "margin": null,
            "max_height": null,
            "max_width": null,
            "min_height": null,
            "min_width": null,
            "object_fit": null,
            "object_position": null,
            "order": null,
            "overflow": null,
            "overflow_x": null,
            "overflow_y": null,
            "padding": null,
            "right": null,
            "top": null,
            "visibility": null,
            "width": null
          }
        },
        "883e2d4d4cd0406f8053b6006fee7197": {
          "model_module": "@jupyter-widgets/base",
          "model_name": "LayoutModel",
          "model_module_version": "1.2.0",
          "state": {
            "_model_module": "@jupyter-widgets/base",
            "_model_module_version": "1.2.0",
            "_model_name": "LayoutModel",
            "_view_count": null,
            "_view_module": "@jupyter-widgets/base",
            "_view_module_version": "1.2.0",
            "_view_name": "LayoutView",
            "align_content": null,
            "align_items": null,
            "align_self": null,
            "border": null,
            "bottom": null,
            "display": null,
            "flex": null,
            "flex_flow": null,
            "grid_area": null,
            "grid_auto_columns": null,
            "grid_auto_flow": null,
            "grid_auto_rows": null,
            "grid_column": null,
            "grid_gap": null,
            "grid_row": null,
            "grid_template_areas": null,
            "grid_template_columns": null,
            "grid_template_rows": null,
            "height": null,
            "justify_content": null,
            "justify_items": null,
            "left": null,
            "margin": null,
            "max_height": null,
            "max_width": null,
            "min_height": null,
            "min_width": null,
            "object_fit": null,
            "object_position": null,
            "order": null,
            "overflow": null,
            "overflow_x": null,
            "overflow_y": null,
            "padding": null,
            "right": null,
            "top": null,
            "visibility": null,
            "width": null
          }
        },
        "da2b81d8a4bd49eb9707adaa2d44e6a5": {
          "model_module": "@jupyter-widgets/controls",
          "model_name": "DescriptionStyleModel",
          "model_module_version": "1.5.0",
          "state": {
            "_model_module": "@jupyter-widgets/controls",
            "_model_module_version": "1.5.0",
            "_model_name": "DescriptionStyleModel",
            "_view_count": null,
            "_view_module": "@jupyter-widgets/base",
            "_view_module_version": "1.2.0",
            "_view_name": "StyleView",
            "description_width": ""
          }
        },
        "bd7b367b96714e38ae86e808fde2ab4b": {
          "model_module": "@jupyter-widgets/base",
          "model_name": "LayoutModel",
          "model_module_version": "1.2.0",
          "state": {
            "_model_module": "@jupyter-widgets/base",
            "_model_module_version": "1.2.0",
            "_model_name": "LayoutModel",
            "_view_count": null,
            "_view_module": "@jupyter-widgets/base",
            "_view_module_version": "1.2.0",
            "_view_name": "LayoutView",
            "align_content": null,
            "align_items": null,
            "align_self": null,
            "border": null,
            "bottom": null,
            "display": null,
            "flex": null,
            "flex_flow": null,
            "grid_area": null,
            "grid_auto_columns": null,
            "grid_auto_flow": null,
            "grid_auto_rows": null,
            "grid_column": null,
            "grid_gap": null,
            "grid_row": null,
            "grid_template_areas": null,
            "grid_template_columns": null,
            "grid_template_rows": null,
            "height": null,
            "justify_content": null,
            "justify_items": null,
            "left": null,
            "margin": null,
            "max_height": null,
            "max_width": null,
            "min_height": null,
            "min_width": null,
            "object_fit": null,
            "object_position": null,
            "order": null,
            "overflow": null,
            "overflow_x": null,
            "overflow_y": null,
            "padding": null,
            "right": null,
            "top": null,
            "visibility": null,
            "width": null
          }
        },
        "85421d17e2304114b8e503c78ad2a5ed": {
          "model_module": "@jupyter-widgets/controls",
          "model_name": "ProgressStyleModel",
          "model_module_version": "1.5.0",
          "state": {
            "_model_module": "@jupyter-widgets/controls",
            "_model_module_version": "1.5.0",
            "_model_name": "ProgressStyleModel",
            "_view_count": null,
            "_view_module": "@jupyter-widgets/base",
            "_view_module_version": "1.2.0",
            "_view_name": "StyleView",
            "bar_color": null,
            "description_width": ""
          }
        },
        "6096d4cce03c49db8f4213968d112097": {
          "model_module": "@jupyter-widgets/base",
          "model_name": "LayoutModel",
          "model_module_version": "1.2.0",
          "state": {
            "_model_module": "@jupyter-widgets/base",
            "_model_module_version": "1.2.0",
            "_model_name": "LayoutModel",
            "_view_count": null,
            "_view_module": "@jupyter-widgets/base",
            "_view_module_version": "1.2.0",
            "_view_name": "LayoutView",
            "align_content": null,
            "align_items": null,
            "align_self": null,
            "border": null,
            "bottom": null,
            "display": null,
            "flex": null,
            "flex_flow": null,
            "grid_area": null,
            "grid_auto_columns": null,
            "grid_auto_flow": null,
            "grid_auto_rows": null,
            "grid_column": null,
            "grid_gap": null,
            "grid_row": null,
            "grid_template_areas": null,
            "grid_template_columns": null,
            "grid_template_rows": null,
            "height": null,
            "justify_content": null,
            "justify_items": null,
            "left": null,
            "margin": null,
            "max_height": null,
            "max_width": null,
            "min_height": null,
            "min_width": null,
            "object_fit": null,
            "object_position": null,
            "order": null,
            "overflow": null,
            "overflow_x": null,
            "overflow_y": null,
            "padding": null,
            "right": null,
            "top": null,
            "visibility": null,
            "width": null
          }
        },
        "110fa3d4ae004e6db81408053f33e2bc": {
          "model_module": "@jupyter-widgets/controls",
          "model_name": "DescriptionStyleModel",
          "model_module_version": "1.5.0",
          "state": {
            "_model_module": "@jupyter-widgets/controls",
            "_model_module_version": "1.5.0",
            "_model_name": "DescriptionStyleModel",
            "_view_count": null,
            "_view_module": "@jupyter-widgets/base",
            "_view_module_version": "1.2.0",
            "_view_name": "StyleView",
            "description_width": ""
          }
        },
        "a22dba0b7934430c860014e9302270e2": {
          "model_module": "@jupyter-widgets/controls",
          "model_name": "HBoxModel",
          "model_module_version": "1.5.0",
          "state": {
            "_dom_classes": [],
            "_model_module": "@jupyter-widgets/controls",
            "_model_module_version": "1.5.0",
            "_model_name": "HBoxModel",
            "_view_count": null,
            "_view_module": "@jupyter-widgets/controls",
            "_view_module_version": "1.5.0",
            "_view_name": "HBoxView",
            "box_style": "",
            "children": [
              "IPY_MODEL_8093c1472d63443a8add29bc9b6d4445",
              "IPY_MODEL_b34a1deb1d0544dbb7d186542d173c2c",
              "IPY_MODEL_15a282d553dc4df29309e275b3db8f71"
            ],
            "layout": "IPY_MODEL_74e5d0ba5cff4c388876aed796f17164"
          }
        },
        "8093c1472d63443a8add29bc9b6d4445": {
          "model_module": "@jupyter-widgets/controls",
          "model_name": "HTMLModel",
          "model_module_version": "1.5.0",
          "state": {
            "_dom_classes": [],
            "_model_module": "@jupyter-widgets/controls",
            "_model_module_version": "1.5.0",
            "_model_name": "HTMLModel",
            "_view_count": null,
            "_view_module": "@jupyter-widgets/controls",
            "_view_module_version": "1.5.0",
            "_view_name": "HTMLView",
            "description": "",
            "description_tooltip": null,
            "layout": "IPY_MODEL_f256e91dc93a488ebe04a7d72db1928c",
            "placeholder": "​",
            "style": "IPY_MODEL_dbee8ef261d842a8be546f0a173ac388",
            "value": "100%"
          }
        },
        "b34a1deb1d0544dbb7d186542d173c2c": {
          "model_module": "@jupyter-widgets/controls",
          "model_name": "FloatProgressModel",
          "model_module_version": "1.5.0",
          "state": {
            "_dom_classes": [],
            "_model_module": "@jupyter-widgets/controls",
            "_model_module_version": "1.5.0",
            "_model_name": "FloatProgressModel",
            "_view_count": null,
            "_view_module": "@jupyter-widgets/controls",
            "_view_module_version": "1.5.0",
            "_view_name": "ProgressView",
            "bar_style": "success",
            "description": "",
            "description_tooltip": null,
            "layout": "IPY_MODEL_1d91e678f73341a399e563ba01411b14",
            "max": 19,
            "min": 0,
            "orientation": "horizontal",
            "style": "IPY_MODEL_0698cbb0a7574aeca57a9a0c40b1b62d",
            "value": 19
          }
        },
        "15a282d553dc4df29309e275b3db8f71": {
          "model_module": "@jupyter-widgets/controls",
          "model_name": "HTMLModel",
          "model_module_version": "1.5.0",
          "state": {
            "_dom_classes": [],
            "_model_module": "@jupyter-widgets/controls",
            "_model_module_version": "1.5.0",
            "_model_name": "HTMLModel",
            "_view_count": null,
            "_view_module": "@jupyter-widgets/controls",
            "_view_module_version": "1.5.0",
            "_view_name": "HTMLView",
            "description": "",
            "description_tooltip": null,
            "layout": "IPY_MODEL_6b2c44b728bb4735848548f3c03e6aeb",
            "placeholder": "​",
            "style": "IPY_MODEL_ee7b60162e104c40af224c6ed56d0efe",
            "value": " 19/19 [22:48&lt;00:00, 56.26s/it]"
          }
        },
        "74e5d0ba5cff4c388876aed796f17164": {
          "model_module": "@jupyter-widgets/base",
          "model_name": "LayoutModel",
          "model_module_version": "1.2.0",
          "state": {
            "_model_module": "@jupyter-widgets/base",
            "_model_module_version": "1.2.0",
            "_model_name": "LayoutModel",
            "_view_count": null,
            "_view_module": "@jupyter-widgets/base",
            "_view_module_version": "1.2.0",
            "_view_name": "LayoutView",
            "align_content": null,
            "align_items": null,
            "align_self": null,
            "border": null,
            "bottom": null,
            "display": null,
            "flex": null,
            "flex_flow": null,
            "grid_area": null,
            "grid_auto_columns": null,
            "grid_auto_flow": null,
            "grid_auto_rows": null,
            "grid_column": null,
            "grid_gap": null,
            "grid_row": null,
            "grid_template_areas": null,
            "grid_template_columns": null,
            "grid_template_rows": null,
            "height": null,
            "justify_content": null,
            "justify_items": null,
            "left": null,
            "margin": null,
            "max_height": null,
            "max_width": null,
            "min_height": null,
            "min_width": null,
            "object_fit": null,
            "object_position": null,
            "order": null,
            "overflow": null,
            "overflow_x": null,
            "overflow_y": null,
            "padding": null,
            "right": null,
            "top": null,
            "visibility": null,
            "width": null
          }
        },
        "f256e91dc93a488ebe04a7d72db1928c": {
          "model_module": "@jupyter-widgets/base",
          "model_name": "LayoutModel",
          "model_module_version": "1.2.0",
          "state": {
            "_model_module": "@jupyter-widgets/base",
            "_model_module_version": "1.2.0",
            "_model_name": "LayoutModel",
            "_view_count": null,
            "_view_module": "@jupyter-widgets/base",
            "_view_module_version": "1.2.0",
            "_view_name": "LayoutView",
            "align_content": null,
            "align_items": null,
            "align_self": null,
            "border": null,
            "bottom": null,
            "display": null,
            "flex": null,
            "flex_flow": null,
            "grid_area": null,
            "grid_auto_columns": null,
            "grid_auto_flow": null,
            "grid_auto_rows": null,
            "grid_column": null,
            "grid_gap": null,
            "grid_row": null,
            "grid_template_areas": null,
            "grid_template_columns": null,
            "grid_template_rows": null,
            "height": null,
            "justify_content": null,
            "justify_items": null,
            "left": null,
            "margin": null,
            "max_height": null,
            "max_width": null,
            "min_height": null,
            "min_width": null,
            "object_fit": null,
            "object_position": null,
            "order": null,
            "overflow": null,
            "overflow_x": null,
            "overflow_y": null,
            "padding": null,
            "right": null,
            "top": null,
            "visibility": null,
            "width": null
          }
        },
        "dbee8ef261d842a8be546f0a173ac388": {
          "model_module": "@jupyter-widgets/controls",
          "model_name": "DescriptionStyleModel",
          "model_module_version": "1.5.0",
          "state": {
            "_model_module": "@jupyter-widgets/controls",
            "_model_module_version": "1.5.0",
            "_model_name": "DescriptionStyleModel",
            "_view_count": null,
            "_view_module": "@jupyter-widgets/base",
            "_view_module_version": "1.2.0",
            "_view_name": "StyleView",
            "description_width": ""
          }
        },
        "1d91e678f73341a399e563ba01411b14": {
          "model_module": "@jupyter-widgets/base",
          "model_name": "LayoutModel",
          "model_module_version": "1.2.0",
          "state": {
            "_model_module": "@jupyter-widgets/base",
            "_model_module_version": "1.2.0",
            "_model_name": "LayoutModel",
            "_view_count": null,
            "_view_module": "@jupyter-widgets/base",
            "_view_module_version": "1.2.0",
            "_view_name": "LayoutView",
            "align_content": null,
            "align_items": null,
            "align_self": null,
            "border": null,
            "bottom": null,
            "display": null,
            "flex": null,
            "flex_flow": null,
            "grid_area": null,
            "grid_auto_columns": null,
            "grid_auto_flow": null,
            "grid_auto_rows": null,
            "grid_column": null,
            "grid_gap": null,
            "grid_row": null,
            "grid_template_areas": null,
            "grid_template_columns": null,
            "grid_template_rows": null,
            "height": null,
            "justify_content": null,
            "justify_items": null,
            "left": null,
            "margin": null,
            "max_height": null,
            "max_width": null,
            "min_height": null,
            "min_width": null,
            "object_fit": null,
            "object_position": null,
            "order": null,
            "overflow": null,
            "overflow_x": null,
            "overflow_y": null,
            "padding": null,
            "right": null,
            "top": null,
            "visibility": null,
            "width": null
          }
        },
        "0698cbb0a7574aeca57a9a0c40b1b62d": {
          "model_module": "@jupyter-widgets/controls",
          "model_name": "ProgressStyleModel",
          "model_module_version": "1.5.0",
          "state": {
            "_model_module": "@jupyter-widgets/controls",
            "_model_module_version": "1.5.0",
            "_model_name": "ProgressStyleModel",
            "_view_count": null,
            "_view_module": "@jupyter-widgets/base",
            "_view_module_version": "1.2.0",
            "_view_name": "StyleView",
            "bar_color": null,
            "description_width": ""
          }
        },
        "6b2c44b728bb4735848548f3c03e6aeb": {
          "model_module": "@jupyter-widgets/base",
          "model_name": "LayoutModel",
          "model_module_version": "1.2.0",
          "state": {
            "_model_module": "@jupyter-widgets/base",
            "_model_module_version": "1.2.0",
            "_model_name": "LayoutModel",
            "_view_count": null,
            "_view_module": "@jupyter-widgets/base",
            "_view_module_version": "1.2.0",
            "_view_name": "LayoutView",
            "align_content": null,
            "align_items": null,
            "align_self": null,
            "border": null,
            "bottom": null,
            "display": null,
            "flex": null,
            "flex_flow": null,
            "grid_area": null,
            "grid_auto_columns": null,
            "grid_auto_flow": null,
            "grid_auto_rows": null,
            "grid_column": null,
            "grid_gap": null,
            "grid_row": null,
            "grid_template_areas": null,
            "grid_template_columns": null,
            "grid_template_rows": null,
            "height": null,
            "justify_content": null,
            "justify_items": null,
            "left": null,
            "margin": null,
            "max_height": null,
            "max_width": null,
            "min_height": null,
            "min_width": null,
            "object_fit": null,
            "object_position": null,
            "order": null,
            "overflow": null,
            "overflow_x": null,
            "overflow_y": null,
            "padding": null,
            "right": null,
            "top": null,
            "visibility": null,
            "width": null
          }
        },
        "ee7b60162e104c40af224c6ed56d0efe": {
          "model_module": "@jupyter-widgets/controls",
          "model_name": "DescriptionStyleModel",
          "model_module_version": "1.5.0",
          "state": {
            "_model_module": "@jupyter-widgets/controls",
            "_model_module_version": "1.5.0",
            "_model_name": "DescriptionStyleModel",
            "_view_count": null,
            "_view_module": "@jupyter-widgets/base",
            "_view_module_version": "1.2.0",
            "_view_name": "StyleView",
            "description_width": ""
          }
        },
        "25116ccbb41847ecb34ec51f75822980": {
          "model_module": "@jupyter-widgets/controls",
          "model_name": "HBoxModel",
          "model_module_version": "1.5.0",
          "state": {
            "_dom_classes": [],
            "_model_module": "@jupyter-widgets/controls",
            "_model_module_version": "1.5.0",
            "_model_name": "HBoxModel",
            "_view_count": null,
            "_view_module": "@jupyter-widgets/controls",
            "_view_module_version": "1.5.0",
            "_view_name": "HBoxView",
            "box_style": "",
            "children": [
              "IPY_MODEL_829a6e5a198c465385aa24f92c3775bd",
              "IPY_MODEL_b49556a64aba4d759719f76f1bf1cddb",
              "IPY_MODEL_ab378bbc2e5d4e4a98f8726f604edcae"
            ],
            "layout": "IPY_MODEL_c10353d9f5fe4d8d921b58692d37998e"
          }
        },
        "829a6e5a198c465385aa24f92c3775bd": {
          "model_module": "@jupyter-widgets/controls",
          "model_name": "HTMLModel",
          "model_module_version": "1.5.0",
          "state": {
            "_dom_classes": [],
            "_model_module": "@jupyter-widgets/controls",
            "_model_module_version": "1.5.0",
            "_model_name": "HTMLModel",
            "_view_count": null,
            "_view_module": "@jupyter-widgets/controls",
            "_view_module_version": "1.5.0",
            "_view_name": "HTMLView",
            "description": "",
            "description_tooltip": null,
            "layout": "IPY_MODEL_d8c304e6ec26455bb7042c0c0cdfb384",
            "placeholder": "​",
            "style": "IPY_MODEL_a6d715f73c74498894f914aab12c1e38",
            "value": "100%"
          }
        },
        "b49556a64aba4d759719f76f1bf1cddb": {
          "model_module": "@jupyter-widgets/controls",
          "model_name": "FloatProgressModel",
          "model_module_version": "1.5.0",
          "state": {
            "_dom_classes": [],
            "_model_module": "@jupyter-widgets/controls",
            "_model_module_version": "1.5.0",
            "_model_name": "FloatProgressModel",
            "_view_count": null,
            "_view_module": "@jupyter-widgets/controls",
            "_view_module_version": "1.5.0",
            "_view_name": "ProgressView",
            "bar_style": "success",
            "description": "",
            "description_tooltip": null,
            "layout": "IPY_MODEL_e3aafd92e6e340bbb393eea3b0dbbde6",
            "max": 19,
            "min": 0,
            "orientation": "horizontal",
            "style": "IPY_MODEL_957718c76bf74416a9ccbcfa999c09b2",
            "value": 19
          }
        },
        "ab378bbc2e5d4e4a98f8726f604edcae": {
          "model_module": "@jupyter-widgets/controls",
          "model_name": "HTMLModel",
          "model_module_version": "1.5.0",
          "state": {
            "_dom_classes": [],
            "_model_module": "@jupyter-widgets/controls",
            "_model_module_version": "1.5.0",
            "_model_name": "HTMLModel",
            "_view_count": null,
            "_view_module": "@jupyter-widgets/controls",
            "_view_module_version": "1.5.0",
            "_view_name": "HTMLView",
            "description": "",
            "description_tooltip": null,
            "layout": "IPY_MODEL_6a9faff9f19d4bbdafd26150ca188873",
            "placeholder": "​",
            "style": "IPY_MODEL_4797726c585a43a6b4ed3f108bd2762c",
            "value": " 19/19 [00:12&lt;00:00,  2.23it/s]"
          }
        },
        "c10353d9f5fe4d8d921b58692d37998e": {
          "model_module": "@jupyter-widgets/base",
          "model_name": "LayoutModel",
          "model_module_version": "1.2.0",
          "state": {
            "_model_module": "@jupyter-widgets/base",
            "_model_module_version": "1.2.0",
            "_model_name": "LayoutModel",
            "_view_count": null,
            "_view_module": "@jupyter-widgets/base",
            "_view_module_version": "1.2.0",
            "_view_name": "LayoutView",
            "align_content": null,
            "align_items": null,
            "align_self": null,
            "border": null,
            "bottom": null,
            "display": null,
            "flex": null,
            "flex_flow": null,
            "grid_area": null,
            "grid_auto_columns": null,
            "grid_auto_flow": null,
            "grid_auto_rows": null,
            "grid_column": null,
            "grid_gap": null,
            "grid_row": null,
            "grid_template_areas": null,
            "grid_template_columns": null,
            "grid_template_rows": null,
            "height": null,
            "justify_content": null,
            "justify_items": null,
            "left": null,
            "margin": null,
            "max_height": null,
            "max_width": null,
            "min_height": null,
            "min_width": null,
            "object_fit": null,
            "object_position": null,
            "order": null,
            "overflow": null,
            "overflow_x": null,
            "overflow_y": null,
            "padding": null,
            "right": null,
            "top": null,
            "visibility": null,
            "width": null
          }
        },
        "d8c304e6ec26455bb7042c0c0cdfb384": {
          "model_module": "@jupyter-widgets/base",
          "model_name": "LayoutModel",
          "model_module_version": "1.2.0",
          "state": {
            "_model_module": "@jupyter-widgets/base",
            "_model_module_version": "1.2.0",
            "_model_name": "LayoutModel",
            "_view_count": null,
            "_view_module": "@jupyter-widgets/base",
            "_view_module_version": "1.2.0",
            "_view_name": "LayoutView",
            "align_content": null,
            "align_items": null,
            "align_self": null,
            "border": null,
            "bottom": null,
            "display": null,
            "flex": null,
            "flex_flow": null,
            "grid_area": null,
            "grid_auto_columns": null,
            "grid_auto_flow": null,
            "grid_auto_rows": null,
            "grid_column": null,
            "grid_gap": null,
            "grid_row": null,
            "grid_template_areas": null,
            "grid_template_columns": null,
            "grid_template_rows": null,
            "height": null,
            "justify_content": null,
            "justify_items": null,
            "left": null,
            "margin": null,
            "max_height": null,
            "max_width": null,
            "min_height": null,
            "min_width": null,
            "object_fit": null,
            "object_position": null,
            "order": null,
            "overflow": null,
            "overflow_x": null,
            "overflow_y": null,
            "padding": null,
            "right": null,
            "top": null,
            "visibility": null,
            "width": null
          }
        },
        "a6d715f73c74498894f914aab12c1e38": {
          "model_module": "@jupyter-widgets/controls",
          "model_name": "DescriptionStyleModel",
          "model_module_version": "1.5.0",
          "state": {
            "_model_module": "@jupyter-widgets/controls",
            "_model_module_version": "1.5.0",
            "_model_name": "DescriptionStyleModel",
            "_view_count": null,
            "_view_module": "@jupyter-widgets/base",
            "_view_module_version": "1.2.0",
            "_view_name": "StyleView",
            "description_width": ""
          }
        },
        "e3aafd92e6e340bbb393eea3b0dbbde6": {
          "model_module": "@jupyter-widgets/base",
          "model_name": "LayoutModel",
          "model_module_version": "1.2.0",
          "state": {
            "_model_module": "@jupyter-widgets/base",
            "_model_module_version": "1.2.0",
            "_model_name": "LayoutModel",
            "_view_count": null,
            "_view_module": "@jupyter-widgets/base",
            "_view_module_version": "1.2.0",
            "_view_name": "LayoutView",
            "align_content": null,
            "align_items": null,
            "align_self": null,
            "border": null,
            "bottom": null,
            "display": null,
            "flex": null,
            "flex_flow": null,
            "grid_area": null,
            "grid_auto_columns": null,
            "grid_auto_flow": null,
            "grid_auto_rows": null,
            "grid_column": null,
            "grid_gap": null,
            "grid_row": null,
            "grid_template_areas": null,
            "grid_template_columns": null,
            "grid_template_rows": null,
            "height": null,
            "justify_content": null,
            "justify_items": null,
            "left": null,
            "margin": null,
            "max_height": null,
            "max_width": null,
            "min_height": null,
            "min_width": null,
            "object_fit": null,
            "object_position": null,
            "order": null,
            "overflow": null,
            "overflow_x": null,
            "overflow_y": null,
            "padding": null,
            "right": null,
            "top": null,
            "visibility": null,
            "width": null
          }
        },
        "957718c76bf74416a9ccbcfa999c09b2": {
          "model_module": "@jupyter-widgets/controls",
          "model_name": "ProgressStyleModel",
          "model_module_version": "1.5.0",
          "state": {
            "_model_module": "@jupyter-widgets/controls",
            "_model_module_version": "1.5.0",
            "_model_name": "ProgressStyleModel",
            "_view_count": null,
            "_view_module": "@jupyter-widgets/base",
            "_view_module_version": "1.2.0",
            "_view_name": "StyleView",
            "bar_color": null,
            "description_width": ""
          }
        },
        "6a9faff9f19d4bbdafd26150ca188873": {
          "model_module": "@jupyter-widgets/base",
          "model_name": "LayoutModel",
          "model_module_version": "1.2.0",
          "state": {
            "_model_module": "@jupyter-widgets/base",
            "_model_module_version": "1.2.0",
            "_model_name": "LayoutModel",
            "_view_count": null,
            "_view_module": "@jupyter-widgets/base",
            "_view_module_version": "1.2.0",
            "_view_name": "LayoutView",
            "align_content": null,
            "align_items": null,
            "align_self": null,
            "border": null,
            "bottom": null,
            "display": null,
            "flex": null,
            "flex_flow": null,
            "grid_area": null,
            "grid_auto_columns": null,
            "grid_auto_flow": null,
            "grid_auto_rows": null,
            "grid_column": null,
            "grid_gap": null,
            "grid_row": null,
            "grid_template_areas": null,
            "grid_template_columns": null,
            "grid_template_rows": null,
            "height": null,
            "justify_content": null,
            "justify_items": null,
            "left": null,
            "margin": null,
            "max_height": null,
            "max_width": null,
            "min_height": null,
            "min_width": null,
            "object_fit": null,
            "object_position": null,
            "order": null,
            "overflow": null,
            "overflow_x": null,
            "overflow_y": null,
            "padding": null,
            "right": null,
            "top": null,
            "visibility": null,
            "width": null
          }
        },
        "4797726c585a43a6b4ed3f108bd2762c": {
          "model_module": "@jupyter-widgets/controls",
          "model_name": "DescriptionStyleModel",
          "model_module_version": "1.5.0",
          "state": {
            "_model_module": "@jupyter-widgets/controls",
            "_model_module_version": "1.5.0",
            "_model_name": "DescriptionStyleModel",
            "_view_count": null,
            "_view_module": "@jupyter-widgets/base",
            "_view_module_version": "1.2.0",
            "_view_name": "StyleView",
            "description_width": ""
          }
        },
        "a65a4eb11d354e2d827ebe6f055118d7": {
          "model_module": "@jupyter-widgets/controls",
          "model_name": "HBoxModel",
          "model_module_version": "1.5.0",
          "state": {
            "_dom_classes": [],
            "_model_module": "@jupyter-widgets/controls",
            "_model_module_version": "1.5.0",
            "_model_name": "HBoxModel",
            "_view_count": null,
            "_view_module": "@jupyter-widgets/controls",
            "_view_module_version": "1.5.0",
            "_view_name": "HBoxView",
            "box_style": "",
            "children": [
              "IPY_MODEL_f8e303c861874dee88387a868de5ea1e",
              "IPY_MODEL_cb3356d09f6f4272a062eba9c8dd160a",
              "IPY_MODEL_20a865233f6040b187b473679de190eb"
            ],
            "layout": "IPY_MODEL_0093970ac20b4d2d8d720f2a30f662da"
          }
        },
        "f8e303c861874dee88387a868de5ea1e": {
          "model_module": "@jupyter-widgets/controls",
          "model_name": "HTMLModel",
          "model_module_version": "1.5.0",
          "state": {
            "_dom_classes": [],
            "_model_module": "@jupyter-widgets/controls",
            "_model_module_version": "1.5.0",
            "_model_name": "HTMLModel",
            "_view_count": null,
            "_view_module": "@jupyter-widgets/controls",
            "_view_module_version": "1.5.0",
            "_view_name": "HTMLView",
            "description": "",
            "description_tooltip": null,
            "layout": "IPY_MODEL_28aafb9c87d14af4a455ee9aef64b4e1",
            "placeholder": "​",
            "style": "IPY_MODEL_eb92db4d2b224595abcc5de24bf2ebb3",
            "value": "100%"
          }
        },
        "cb3356d09f6f4272a062eba9c8dd160a": {
          "model_module": "@jupyter-widgets/controls",
          "model_name": "FloatProgressModel",
          "model_module_version": "1.5.0",
          "state": {
            "_dom_classes": [],
            "_model_module": "@jupyter-widgets/controls",
            "_model_module_version": "1.5.0",
            "_model_name": "FloatProgressModel",
            "_view_count": null,
            "_view_module": "@jupyter-widgets/controls",
            "_view_module_version": "1.5.0",
            "_view_name": "ProgressView",
            "bar_style": "success",
            "description": "",
            "description_tooltip": null,
            "layout": "IPY_MODEL_0bcc227f72d248f18760dcef748a6ebf",
            "max": 19,
            "min": 0,
            "orientation": "horizontal",
            "style": "IPY_MODEL_30936ba0b09845d8ba8b4d742cb515e9",
            "value": 19
          }
        },
        "20a865233f6040b187b473679de190eb": {
          "model_module": "@jupyter-widgets/controls",
          "model_name": "HTMLModel",
          "model_module_version": "1.5.0",
          "state": {
            "_dom_classes": [],
            "_model_module": "@jupyter-widgets/controls",
            "_model_module_version": "1.5.0",
            "_model_name": "HTMLModel",
            "_view_count": null,
            "_view_module": "@jupyter-widgets/controls",
            "_view_module_version": "1.5.0",
            "_view_name": "HTMLView",
            "description": "",
            "description_tooltip": null,
            "layout": "IPY_MODEL_71e91dd017c4467caae3f70069227f4f",
            "placeholder": "​",
            "style": "IPY_MODEL_87c931a176894693be6622da94c872ec",
            "value": " 19/19 [00:12&lt;00:00,  2.01it/s]"
          }
        },
        "0093970ac20b4d2d8d720f2a30f662da": {
          "model_module": "@jupyter-widgets/base",
          "model_name": "LayoutModel",
          "model_module_version": "1.2.0",
          "state": {
            "_model_module": "@jupyter-widgets/base",
            "_model_module_version": "1.2.0",
            "_model_name": "LayoutModel",
            "_view_count": null,
            "_view_module": "@jupyter-widgets/base",
            "_view_module_version": "1.2.0",
            "_view_name": "LayoutView",
            "align_content": null,
            "align_items": null,
            "align_self": null,
            "border": null,
            "bottom": null,
            "display": null,
            "flex": null,
            "flex_flow": null,
            "grid_area": null,
            "grid_auto_columns": null,
            "grid_auto_flow": null,
            "grid_auto_rows": null,
            "grid_column": null,
            "grid_gap": null,
            "grid_row": null,
            "grid_template_areas": null,
            "grid_template_columns": null,
            "grid_template_rows": null,
            "height": null,
            "justify_content": null,
            "justify_items": null,
            "left": null,
            "margin": null,
            "max_height": null,
            "max_width": null,
            "min_height": null,
            "min_width": null,
            "object_fit": null,
            "object_position": null,
            "order": null,
            "overflow": null,
            "overflow_x": null,
            "overflow_y": null,
            "padding": null,
            "right": null,
            "top": null,
            "visibility": null,
            "width": null
          }
        },
        "28aafb9c87d14af4a455ee9aef64b4e1": {
          "model_module": "@jupyter-widgets/base",
          "model_name": "LayoutModel",
          "model_module_version": "1.2.0",
          "state": {
            "_model_module": "@jupyter-widgets/base",
            "_model_module_version": "1.2.0",
            "_model_name": "LayoutModel",
            "_view_count": null,
            "_view_module": "@jupyter-widgets/base",
            "_view_module_version": "1.2.0",
            "_view_name": "LayoutView",
            "align_content": null,
            "align_items": null,
            "align_self": null,
            "border": null,
            "bottom": null,
            "display": null,
            "flex": null,
            "flex_flow": null,
            "grid_area": null,
            "grid_auto_columns": null,
            "grid_auto_flow": null,
            "grid_auto_rows": null,
            "grid_column": null,
            "grid_gap": null,
            "grid_row": null,
            "grid_template_areas": null,
            "grid_template_columns": null,
            "grid_template_rows": null,
            "height": null,
            "justify_content": null,
            "justify_items": null,
            "left": null,
            "margin": null,
            "max_height": null,
            "max_width": null,
            "min_height": null,
            "min_width": null,
            "object_fit": null,
            "object_position": null,
            "order": null,
            "overflow": null,
            "overflow_x": null,
            "overflow_y": null,
            "padding": null,
            "right": null,
            "top": null,
            "visibility": null,
            "width": null
          }
        },
        "eb92db4d2b224595abcc5de24bf2ebb3": {
          "model_module": "@jupyter-widgets/controls",
          "model_name": "DescriptionStyleModel",
          "model_module_version": "1.5.0",
          "state": {
            "_model_module": "@jupyter-widgets/controls",
            "_model_module_version": "1.5.0",
            "_model_name": "DescriptionStyleModel",
            "_view_count": null,
            "_view_module": "@jupyter-widgets/base",
            "_view_module_version": "1.2.0",
            "_view_name": "StyleView",
            "description_width": ""
          }
        },
        "0bcc227f72d248f18760dcef748a6ebf": {
          "model_module": "@jupyter-widgets/base",
          "model_name": "LayoutModel",
          "model_module_version": "1.2.0",
          "state": {
            "_model_module": "@jupyter-widgets/base",
            "_model_module_version": "1.2.0",
            "_model_name": "LayoutModel",
            "_view_count": null,
            "_view_module": "@jupyter-widgets/base",
            "_view_module_version": "1.2.0",
            "_view_name": "LayoutView",
            "align_content": null,
            "align_items": null,
            "align_self": null,
            "border": null,
            "bottom": null,
            "display": null,
            "flex": null,
            "flex_flow": null,
            "grid_area": null,
            "grid_auto_columns": null,
            "grid_auto_flow": null,
            "grid_auto_rows": null,
            "grid_column": null,
            "grid_gap": null,
            "grid_row": null,
            "grid_template_areas": null,
            "grid_template_columns": null,
            "grid_template_rows": null,
            "height": null,
            "justify_content": null,
            "justify_items": null,
            "left": null,
            "margin": null,
            "max_height": null,
            "max_width": null,
            "min_height": null,
            "min_width": null,
            "object_fit": null,
            "object_position": null,
            "order": null,
            "overflow": null,
            "overflow_x": null,
            "overflow_y": null,
            "padding": null,
            "right": null,
            "top": null,
            "visibility": null,
            "width": null
          }
        },
        "30936ba0b09845d8ba8b4d742cb515e9": {
          "model_module": "@jupyter-widgets/controls",
          "model_name": "ProgressStyleModel",
          "model_module_version": "1.5.0",
          "state": {
            "_model_module": "@jupyter-widgets/controls",
            "_model_module_version": "1.5.0",
            "_model_name": "ProgressStyleModel",
            "_view_count": null,
            "_view_module": "@jupyter-widgets/base",
            "_view_module_version": "1.2.0",
            "_view_name": "StyleView",
            "bar_color": null,
            "description_width": ""
          }
        },
        "71e91dd017c4467caae3f70069227f4f": {
          "model_module": "@jupyter-widgets/base",
          "model_name": "LayoutModel",
          "model_module_version": "1.2.0",
          "state": {
            "_model_module": "@jupyter-widgets/base",
            "_model_module_version": "1.2.0",
            "_model_name": "LayoutModel",
            "_view_count": null,
            "_view_module": "@jupyter-widgets/base",
            "_view_module_version": "1.2.0",
            "_view_name": "LayoutView",
            "align_content": null,
            "align_items": null,
            "align_self": null,
            "border": null,
            "bottom": null,
            "display": null,
            "flex": null,
            "flex_flow": null,
            "grid_area": null,
            "grid_auto_columns": null,
            "grid_auto_flow": null,
            "grid_auto_rows": null,
            "grid_column": null,
            "grid_gap": null,
            "grid_row": null,
            "grid_template_areas": null,
            "grid_template_columns": null,
            "grid_template_rows": null,
            "height": null,
            "justify_content": null,
            "justify_items": null,
            "left": null,
            "margin": null,
            "max_height": null,
            "max_width": null,
            "min_height": null,
            "min_width": null,
            "object_fit": null,
            "object_position": null,
            "order": null,
            "overflow": null,
            "overflow_x": null,
            "overflow_y": null,
            "padding": null,
            "right": null,
            "top": null,
            "visibility": null,
            "width": null
          }
        },
        "87c931a176894693be6622da94c872ec": {
          "model_module": "@jupyter-widgets/controls",
          "model_name": "DescriptionStyleModel",
          "model_module_version": "1.5.0",
          "state": {
            "_model_module": "@jupyter-widgets/controls",
            "_model_module_version": "1.5.0",
            "_model_name": "DescriptionStyleModel",
            "_view_count": null,
            "_view_module": "@jupyter-widgets/base",
            "_view_module_version": "1.2.0",
            "_view_name": "StyleView",
            "description_width": ""
          }
        },
        "7f2c1c392c3548e68cb2cb1ff6b49a7d": {
          "model_module": "@jupyter-widgets/controls",
          "model_name": "HBoxModel",
          "model_module_version": "1.5.0",
          "state": {
            "_dom_classes": [],
            "_model_module": "@jupyter-widgets/controls",
            "_model_module_version": "1.5.0",
            "_model_name": "HBoxModel",
            "_view_count": null,
            "_view_module": "@jupyter-widgets/controls",
            "_view_module_version": "1.5.0",
            "_view_name": "HBoxView",
            "box_style": "",
            "children": [
              "IPY_MODEL_40d40dec7c434cec849e47655a463fdf",
              "IPY_MODEL_e8204447a640456aa61478041af5b8a4",
              "IPY_MODEL_6b07d50630ef425180c8d9fc62e3882f"
            ],
            "layout": "IPY_MODEL_918543d886ea49f18b2485488f7162e4"
          }
        },
        "40d40dec7c434cec849e47655a463fdf": {
          "model_module": "@jupyter-widgets/controls",
          "model_name": "HTMLModel",
          "model_module_version": "1.5.0",
          "state": {
            "_dom_classes": [],
            "_model_module": "@jupyter-widgets/controls",
            "_model_module_version": "1.5.0",
            "_model_name": "HTMLModel",
            "_view_count": null,
            "_view_module": "@jupyter-widgets/controls",
            "_view_module_version": "1.5.0",
            "_view_name": "HTMLView",
            "description": "",
            "description_tooltip": null,
            "layout": "IPY_MODEL_df4a01a135e84a65830745b4d4993635",
            "placeholder": "​",
            "style": "IPY_MODEL_002bb382d23040d89a3715114cf37a50",
            "value": "100%"
          }
        },
        "e8204447a640456aa61478041af5b8a4": {
          "model_module": "@jupyter-widgets/controls",
          "model_name": "FloatProgressModel",
          "model_module_version": "1.5.0",
          "state": {
            "_dom_classes": [],
            "_model_module": "@jupyter-widgets/controls",
            "_model_module_version": "1.5.0",
            "_model_name": "FloatProgressModel",
            "_view_count": null,
            "_view_module": "@jupyter-widgets/controls",
            "_view_module_version": "1.5.0",
            "_view_name": "ProgressView",
            "bar_style": "success",
            "description": "",
            "description_tooltip": null,
            "layout": "IPY_MODEL_4d4642e474bd4fb69b3af0041410dd20",
            "max": 19,
            "min": 0,
            "orientation": "horizontal",
            "style": "IPY_MODEL_953b7e523c594bb7a1225d348b9c34bd",
            "value": 19
          }
        },
        "6b07d50630ef425180c8d9fc62e3882f": {
          "model_module": "@jupyter-widgets/controls",
          "model_name": "HTMLModel",
          "model_module_version": "1.5.0",
          "state": {
            "_dom_classes": [],
            "_model_module": "@jupyter-widgets/controls",
            "_model_module_version": "1.5.0",
            "_model_name": "HTMLModel",
            "_view_count": null,
            "_view_module": "@jupyter-widgets/controls",
            "_view_module_version": "1.5.0",
            "_view_name": "HTMLView",
            "description": "",
            "description_tooltip": null,
            "layout": "IPY_MODEL_3386d7ffad9147229a52232a307757e1",
            "placeholder": "​",
            "style": "IPY_MODEL_e124980510e446aeb4301654fdd11784",
            "value": " 19/19 [00:12&lt;00:00,  1.91it/s]"
          }
        },
        "918543d886ea49f18b2485488f7162e4": {
          "model_module": "@jupyter-widgets/base",
          "model_name": "LayoutModel",
          "model_module_version": "1.2.0",
          "state": {
            "_model_module": "@jupyter-widgets/base",
            "_model_module_version": "1.2.0",
            "_model_name": "LayoutModel",
            "_view_count": null,
            "_view_module": "@jupyter-widgets/base",
            "_view_module_version": "1.2.0",
            "_view_name": "LayoutView",
            "align_content": null,
            "align_items": null,
            "align_self": null,
            "border": null,
            "bottom": null,
            "display": null,
            "flex": null,
            "flex_flow": null,
            "grid_area": null,
            "grid_auto_columns": null,
            "grid_auto_flow": null,
            "grid_auto_rows": null,
            "grid_column": null,
            "grid_gap": null,
            "grid_row": null,
            "grid_template_areas": null,
            "grid_template_columns": null,
            "grid_template_rows": null,
            "height": null,
            "justify_content": null,
            "justify_items": null,
            "left": null,
            "margin": null,
            "max_height": null,
            "max_width": null,
            "min_height": null,
            "min_width": null,
            "object_fit": null,
            "object_position": null,
            "order": null,
            "overflow": null,
            "overflow_x": null,
            "overflow_y": null,
            "padding": null,
            "right": null,
            "top": null,
            "visibility": null,
            "width": null
          }
        },
        "df4a01a135e84a65830745b4d4993635": {
          "model_module": "@jupyter-widgets/base",
          "model_name": "LayoutModel",
          "model_module_version": "1.2.0",
          "state": {
            "_model_module": "@jupyter-widgets/base",
            "_model_module_version": "1.2.0",
            "_model_name": "LayoutModel",
            "_view_count": null,
            "_view_module": "@jupyter-widgets/base",
            "_view_module_version": "1.2.0",
            "_view_name": "LayoutView",
            "align_content": null,
            "align_items": null,
            "align_self": null,
            "border": null,
            "bottom": null,
            "display": null,
            "flex": null,
            "flex_flow": null,
            "grid_area": null,
            "grid_auto_columns": null,
            "grid_auto_flow": null,
            "grid_auto_rows": null,
            "grid_column": null,
            "grid_gap": null,
            "grid_row": null,
            "grid_template_areas": null,
            "grid_template_columns": null,
            "grid_template_rows": null,
            "height": null,
            "justify_content": null,
            "justify_items": null,
            "left": null,
            "margin": null,
            "max_height": null,
            "max_width": null,
            "min_height": null,
            "min_width": null,
            "object_fit": null,
            "object_position": null,
            "order": null,
            "overflow": null,
            "overflow_x": null,
            "overflow_y": null,
            "padding": null,
            "right": null,
            "top": null,
            "visibility": null,
            "width": null
          }
        },
        "002bb382d23040d89a3715114cf37a50": {
          "model_module": "@jupyter-widgets/controls",
          "model_name": "DescriptionStyleModel",
          "model_module_version": "1.5.0",
          "state": {
            "_model_module": "@jupyter-widgets/controls",
            "_model_module_version": "1.5.0",
            "_model_name": "DescriptionStyleModel",
            "_view_count": null,
            "_view_module": "@jupyter-widgets/base",
            "_view_module_version": "1.2.0",
            "_view_name": "StyleView",
            "description_width": ""
          }
        },
        "4d4642e474bd4fb69b3af0041410dd20": {
          "model_module": "@jupyter-widgets/base",
          "model_name": "LayoutModel",
          "model_module_version": "1.2.0",
          "state": {
            "_model_module": "@jupyter-widgets/base",
            "_model_module_version": "1.2.0",
            "_model_name": "LayoutModel",
            "_view_count": null,
            "_view_module": "@jupyter-widgets/base",
            "_view_module_version": "1.2.0",
            "_view_name": "LayoutView",
            "align_content": null,
            "align_items": null,
            "align_self": null,
            "border": null,
            "bottom": null,
            "display": null,
            "flex": null,
            "flex_flow": null,
            "grid_area": null,
            "grid_auto_columns": null,
            "grid_auto_flow": null,
            "grid_auto_rows": null,
            "grid_column": null,
            "grid_gap": null,
            "grid_row": null,
            "grid_template_areas": null,
            "grid_template_columns": null,
            "grid_template_rows": null,
            "height": null,
            "justify_content": null,
            "justify_items": null,
            "left": null,
            "margin": null,
            "max_height": null,
            "max_width": null,
            "min_height": null,
            "min_width": null,
            "object_fit": null,
            "object_position": null,
            "order": null,
            "overflow": null,
            "overflow_x": null,
            "overflow_y": null,
            "padding": null,
            "right": null,
            "top": null,
            "visibility": null,
            "width": null
          }
        },
        "953b7e523c594bb7a1225d348b9c34bd": {
          "model_module": "@jupyter-widgets/controls",
          "model_name": "ProgressStyleModel",
          "model_module_version": "1.5.0",
          "state": {
            "_model_module": "@jupyter-widgets/controls",
            "_model_module_version": "1.5.0",
            "_model_name": "ProgressStyleModel",
            "_view_count": null,
            "_view_module": "@jupyter-widgets/base",
            "_view_module_version": "1.2.0",
            "_view_name": "StyleView",
            "bar_color": null,
            "description_width": ""
          }
        },
        "3386d7ffad9147229a52232a307757e1": {
          "model_module": "@jupyter-widgets/base",
          "model_name": "LayoutModel",
          "model_module_version": "1.2.0",
          "state": {
            "_model_module": "@jupyter-widgets/base",
            "_model_module_version": "1.2.0",
            "_model_name": "LayoutModel",
            "_view_count": null,
            "_view_module": "@jupyter-widgets/base",
            "_view_module_version": "1.2.0",
            "_view_name": "LayoutView",
            "align_content": null,
            "align_items": null,
            "align_self": null,
            "border": null,
            "bottom": null,
            "display": null,
            "flex": null,
            "flex_flow": null,
            "grid_area": null,
            "grid_auto_columns": null,
            "grid_auto_flow": null,
            "grid_auto_rows": null,
            "grid_column": null,
            "grid_gap": null,
            "grid_row": null,
            "grid_template_areas": null,
            "grid_template_columns": null,
            "grid_template_rows": null,
            "height": null,
            "justify_content": null,
            "justify_items": null,
            "left": null,
            "margin": null,
            "max_height": null,
            "max_width": null,
            "min_height": null,
            "min_width": null,
            "object_fit": null,
            "object_position": null,
            "order": null,
            "overflow": null,
            "overflow_x": null,
            "overflow_y": null,
            "padding": null,
            "right": null,
            "top": null,
            "visibility": null,
            "width": null
          }
        },
        "e124980510e446aeb4301654fdd11784": {
          "model_module": "@jupyter-widgets/controls",
          "model_name": "DescriptionStyleModel",
          "model_module_version": "1.5.0",
          "state": {
            "_model_module": "@jupyter-widgets/controls",
            "_model_module_version": "1.5.0",
            "_model_name": "DescriptionStyleModel",
            "_view_count": null,
            "_view_module": "@jupyter-widgets/base",
            "_view_module_version": "1.2.0",
            "_view_name": "StyleView",
            "description_width": ""
          }
        },
        "46d07317fead4152931ff5f1a68a4374": {
          "model_module": "@jupyter-widgets/controls",
          "model_name": "HBoxModel",
          "model_module_version": "1.5.0",
          "state": {
            "_dom_classes": [],
            "_model_module": "@jupyter-widgets/controls",
            "_model_module_version": "1.5.0",
            "_model_name": "HBoxModel",
            "_view_count": null,
            "_view_module": "@jupyter-widgets/controls",
            "_view_module_version": "1.5.0",
            "_view_name": "HBoxView",
            "box_style": "",
            "children": [
              "IPY_MODEL_1231b42cdb5f4fb8971846fd6453fa7c",
              "IPY_MODEL_547ee2353bc647be84d5b771fe7fae0f",
              "IPY_MODEL_b95dc48552da48a08830fe94dac17147"
            ],
            "layout": "IPY_MODEL_afbca21c37d645639ae57caecd5b69d9"
          }
        },
        "1231b42cdb5f4fb8971846fd6453fa7c": {
          "model_module": "@jupyter-widgets/controls",
          "model_name": "HTMLModel",
          "model_module_version": "1.5.0",
          "state": {
            "_dom_classes": [],
            "_model_module": "@jupyter-widgets/controls",
            "_model_module_version": "1.5.0",
            "_model_name": "HTMLModel",
            "_view_count": null,
            "_view_module": "@jupyter-widgets/controls",
            "_view_module_version": "1.5.0",
            "_view_name": "HTMLView",
            "description": "",
            "description_tooltip": null,
            "layout": "IPY_MODEL_f62e9d434fb54b3ab46c1a7ef2f2b85e",
            "placeholder": "​",
            "style": "IPY_MODEL_3da3604ee3f545f69de133ec14323add",
            "value": "100%"
          }
        },
        "547ee2353bc647be84d5b771fe7fae0f": {
          "model_module": "@jupyter-widgets/controls",
          "model_name": "FloatProgressModel",
          "model_module_version": "1.5.0",
          "state": {
            "_dom_classes": [],
            "_model_module": "@jupyter-widgets/controls",
            "_model_module_version": "1.5.0",
            "_model_name": "FloatProgressModel",
            "_view_count": null,
            "_view_module": "@jupyter-widgets/controls",
            "_view_module_version": "1.5.0",
            "_view_name": "ProgressView",
            "bar_style": "success",
            "description": "",
            "description_tooltip": null,
            "layout": "IPY_MODEL_c0fc234a4ac647e3afdfa6cc14dc781b",
            "max": 19,
            "min": 0,
            "orientation": "horizontal",
            "style": "IPY_MODEL_b7aca3e77bbd4ef6894558407ee0b7a6",
            "value": 19
          }
        },
        "b95dc48552da48a08830fe94dac17147": {
          "model_module": "@jupyter-widgets/controls",
          "model_name": "HTMLModel",
          "model_module_version": "1.5.0",
          "state": {
            "_dom_classes": [],
            "_model_module": "@jupyter-widgets/controls",
            "_model_module_version": "1.5.0",
            "_model_name": "HTMLModel",
            "_view_count": null,
            "_view_module": "@jupyter-widgets/controls",
            "_view_module_version": "1.5.0",
            "_view_name": "HTMLView",
            "description": "",
            "description_tooltip": null,
            "layout": "IPY_MODEL_9666ee5755524f03aa8cc9f8827bd08e",
            "placeholder": "​",
            "style": "IPY_MODEL_86511706ffbd4bd9b27529b0c2c7d951",
            "value": " 19/19 [00:12&lt;00:00,  1.87it/s]"
          }
        },
        "afbca21c37d645639ae57caecd5b69d9": {
          "model_module": "@jupyter-widgets/base",
          "model_name": "LayoutModel",
          "model_module_version": "1.2.0",
          "state": {
            "_model_module": "@jupyter-widgets/base",
            "_model_module_version": "1.2.0",
            "_model_name": "LayoutModel",
            "_view_count": null,
            "_view_module": "@jupyter-widgets/base",
            "_view_module_version": "1.2.0",
            "_view_name": "LayoutView",
            "align_content": null,
            "align_items": null,
            "align_self": null,
            "border": null,
            "bottom": null,
            "display": null,
            "flex": null,
            "flex_flow": null,
            "grid_area": null,
            "grid_auto_columns": null,
            "grid_auto_flow": null,
            "grid_auto_rows": null,
            "grid_column": null,
            "grid_gap": null,
            "grid_row": null,
            "grid_template_areas": null,
            "grid_template_columns": null,
            "grid_template_rows": null,
            "height": null,
            "justify_content": null,
            "justify_items": null,
            "left": null,
            "margin": null,
            "max_height": null,
            "max_width": null,
            "min_height": null,
            "min_width": null,
            "object_fit": null,
            "object_position": null,
            "order": null,
            "overflow": null,
            "overflow_x": null,
            "overflow_y": null,
            "padding": null,
            "right": null,
            "top": null,
            "visibility": null,
            "width": null
          }
        },
        "f62e9d434fb54b3ab46c1a7ef2f2b85e": {
          "model_module": "@jupyter-widgets/base",
          "model_name": "LayoutModel",
          "model_module_version": "1.2.0",
          "state": {
            "_model_module": "@jupyter-widgets/base",
            "_model_module_version": "1.2.0",
            "_model_name": "LayoutModel",
            "_view_count": null,
            "_view_module": "@jupyter-widgets/base",
            "_view_module_version": "1.2.0",
            "_view_name": "LayoutView",
            "align_content": null,
            "align_items": null,
            "align_self": null,
            "border": null,
            "bottom": null,
            "display": null,
            "flex": null,
            "flex_flow": null,
            "grid_area": null,
            "grid_auto_columns": null,
            "grid_auto_flow": null,
            "grid_auto_rows": null,
            "grid_column": null,
            "grid_gap": null,
            "grid_row": null,
            "grid_template_areas": null,
            "grid_template_columns": null,
            "grid_template_rows": null,
            "height": null,
            "justify_content": null,
            "justify_items": null,
            "left": null,
            "margin": null,
            "max_height": null,
            "max_width": null,
            "min_height": null,
            "min_width": null,
            "object_fit": null,
            "object_position": null,
            "order": null,
            "overflow": null,
            "overflow_x": null,
            "overflow_y": null,
            "padding": null,
            "right": null,
            "top": null,
            "visibility": null,
            "width": null
          }
        },
        "3da3604ee3f545f69de133ec14323add": {
          "model_module": "@jupyter-widgets/controls",
          "model_name": "DescriptionStyleModel",
          "model_module_version": "1.5.0",
          "state": {
            "_model_module": "@jupyter-widgets/controls",
            "_model_module_version": "1.5.0",
            "_model_name": "DescriptionStyleModel",
            "_view_count": null,
            "_view_module": "@jupyter-widgets/base",
            "_view_module_version": "1.2.0",
            "_view_name": "StyleView",
            "description_width": ""
          }
        },
        "c0fc234a4ac647e3afdfa6cc14dc781b": {
          "model_module": "@jupyter-widgets/base",
          "model_name": "LayoutModel",
          "model_module_version": "1.2.0",
          "state": {
            "_model_module": "@jupyter-widgets/base",
            "_model_module_version": "1.2.0",
            "_model_name": "LayoutModel",
            "_view_count": null,
            "_view_module": "@jupyter-widgets/base",
            "_view_module_version": "1.2.0",
            "_view_name": "LayoutView",
            "align_content": null,
            "align_items": null,
            "align_self": null,
            "border": null,
            "bottom": null,
            "display": null,
            "flex": null,
            "flex_flow": null,
            "grid_area": null,
            "grid_auto_columns": null,
            "grid_auto_flow": null,
            "grid_auto_rows": null,
            "grid_column": null,
            "grid_gap": null,
            "grid_row": null,
            "grid_template_areas": null,
            "grid_template_columns": null,
            "grid_template_rows": null,
            "height": null,
            "justify_content": null,
            "justify_items": null,
            "left": null,
            "margin": null,
            "max_height": null,
            "max_width": null,
            "min_height": null,
            "min_width": null,
            "object_fit": null,
            "object_position": null,
            "order": null,
            "overflow": null,
            "overflow_x": null,
            "overflow_y": null,
            "padding": null,
            "right": null,
            "top": null,
            "visibility": null,
            "width": null
          }
        },
        "b7aca3e77bbd4ef6894558407ee0b7a6": {
          "model_module": "@jupyter-widgets/controls",
          "model_name": "ProgressStyleModel",
          "model_module_version": "1.5.0",
          "state": {
            "_model_module": "@jupyter-widgets/controls",
            "_model_module_version": "1.5.0",
            "_model_name": "ProgressStyleModel",
            "_view_count": null,
            "_view_module": "@jupyter-widgets/base",
            "_view_module_version": "1.2.0",
            "_view_name": "StyleView",
            "bar_color": null,
            "description_width": ""
          }
        },
        "9666ee5755524f03aa8cc9f8827bd08e": {
          "model_module": "@jupyter-widgets/base",
          "model_name": "LayoutModel",
          "model_module_version": "1.2.0",
          "state": {
            "_model_module": "@jupyter-widgets/base",
            "_model_module_version": "1.2.0",
            "_model_name": "LayoutModel",
            "_view_count": null,
            "_view_module": "@jupyter-widgets/base",
            "_view_module_version": "1.2.0",
            "_view_name": "LayoutView",
            "align_content": null,
            "align_items": null,
            "align_self": null,
            "border": null,
            "bottom": null,
            "display": null,
            "flex": null,
            "flex_flow": null,
            "grid_area": null,
            "grid_auto_columns": null,
            "grid_auto_flow": null,
            "grid_auto_rows": null,
            "grid_column": null,
            "grid_gap": null,
            "grid_row": null,
            "grid_template_areas": null,
            "grid_template_columns": null,
            "grid_template_rows": null,
            "height": null,
            "justify_content": null,
            "justify_items": null,
            "left": null,
            "margin": null,
            "max_height": null,
            "max_width": null,
            "min_height": null,
            "min_width": null,
            "object_fit": null,
            "object_position": null,
            "order": null,
            "overflow": null,
            "overflow_x": null,
            "overflow_y": null,
            "padding": null,
            "right": null,
            "top": null,
            "visibility": null,
            "width": null
          }
        },
        "86511706ffbd4bd9b27529b0c2c7d951": {
          "model_module": "@jupyter-widgets/controls",
          "model_name": "DescriptionStyleModel",
          "model_module_version": "1.5.0",
          "state": {
            "_model_module": "@jupyter-widgets/controls",
            "_model_module_version": "1.5.0",
            "_model_name": "DescriptionStyleModel",
            "_view_count": null,
            "_view_module": "@jupyter-widgets/base",
            "_view_module_version": "1.2.0",
            "_view_name": "StyleView",
            "description_width": ""
          }
        },
        "b786416312e3472e8ede9f8a1b508841": {
          "model_module": "@jupyter-widgets/controls",
          "model_name": "HBoxModel",
          "model_module_version": "1.5.0",
          "state": {
            "_dom_classes": [],
            "_model_module": "@jupyter-widgets/controls",
            "_model_module_version": "1.5.0",
            "_model_name": "HBoxModel",
            "_view_count": null,
            "_view_module": "@jupyter-widgets/controls",
            "_view_module_version": "1.5.0",
            "_view_name": "HBoxView",
            "box_style": "",
            "children": [
              "IPY_MODEL_51314262b2a9428ab7a854542d4cbffc",
              "IPY_MODEL_35431872de574cd18bcd216990137f69",
              "IPY_MODEL_40309d53870d444cbdb4b47cf75eae02"
            ],
            "layout": "IPY_MODEL_c7dad93d36e14c33a28e7b240e5c4082"
          }
        },
        "51314262b2a9428ab7a854542d4cbffc": {
          "model_module": "@jupyter-widgets/controls",
          "model_name": "HTMLModel",
          "model_module_version": "1.5.0",
          "state": {
            "_dom_classes": [],
            "_model_module": "@jupyter-widgets/controls",
            "_model_module_version": "1.5.0",
            "_model_name": "HTMLModel",
            "_view_count": null,
            "_view_module": "@jupyter-widgets/controls",
            "_view_module_version": "1.5.0",
            "_view_name": "HTMLView",
            "description": "",
            "description_tooltip": null,
            "layout": "IPY_MODEL_16cb8e7489404914a3f9ccc9042b4a28",
            "placeholder": "​",
            "style": "IPY_MODEL_93f191a9d16946d6b9926731895c3378",
            "value": "100%"
          }
        },
        "35431872de574cd18bcd216990137f69": {
          "model_module": "@jupyter-widgets/controls",
          "model_name": "FloatProgressModel",
          "model_module_version": "1.5.0",
          "state": {
            "_dom_classes": [],
            "_model_module": "@jupyter-widgets/controls",
            "_model_module_version": "1.5.0",
            "_model_name": "FloatProgressModel",
            "_view_count": null,
            "_view_module": "@jupyter-widgets/controls",
            "_view_module_version": "1.5.0",
            "_view_name": "ProgressView",
            "bar_style": "success",
            "description": "",
            "description_tooltip": null,
            "layout": "IPY_MODEL_e3f84943f5994bbba9f1147acbee4e85",
            "max": 19,
            "min": 0,
            "orientation": "horizontal",
            "style": "IPY_MODEL_1d31c069a42240759fe1219a4d71dca2",
            "value": 19
          }
        },
        "40309d53870d444cbdb4b47cf75eae02": {
          "model_module": "@jupyter-widgets/controls",
          "model_name": "HTMLModel",
          "model_module_version": "1.5.0",
          "state": {
            "_dom_classes": [],
            "_model_module": "@jupyter-widgets/controls",
            "_model_module_version": "1.5.0",
            "_model_name": "HTMLModel",
            "_view_count": null,
            "_view_module": "@jupyter-widgets/controls",
            "_view_module_version": "1.5.0",
            "_view_name": "HTMLView",
            "description": "",
            "description_tooltip": null,
            "layout": "IPY_MODEL_989a9b6451784c46a6f7b63dc3bf369f",
            "placeholder": "​",
            "style": "IPY_MODEL_7c6da79e493240259cd18fc9f49e9c0c",
            "value": " 19/19 [00:14&lt;00:00,  1.81it/s]"
          }
        },
        "c7dad93d36e14c33a28e7b240e5c4082": {
          "model_module": "@jupyter-widgets/base",
          "model_name": "LayoutModel",
          "model_module_version": "1.2.0",
          "state": {
            "_model_module": "@jupyter-widgets/base",
            "_model_module_version": "1.2.0",
            "_model_name": "LayoutModel",
            "_view_count": null,
            "_view_module": "@jupyter-widgets/base",
            "_view_module_version": "1.2.0",
            "_view_name": "LayoutView",
            "align_content": null,
            "align_items": null,
            "align_self": null,
            "border": null,
            "bottom": null,
            "display": null,
            "flex": null,
            "flex_flow": null,
            "grid_area": null,
            "grid_auto_columns": null,
            "grid_auto_flow": null,
            "grid_auto_rows": null,
            "grid_column": null,
            "grid_gap": null,
            "grid_row": null,
            "grid_template_areas": null,
            "grid_template_columns": null,
            "grid_template_rows": null,
            "height": null,
            "justify_content": null,
            "justify_items": null,
            "left": null,
            "margin": null,
            "max_height": null,
            "max_width": null,
            "min_height": null,
            "min_width": null,
            "object_fit": null,
            "object_position": null,
            "order": null,
            "overflow": null,
            "overflow_x": null,
            "overflow_y": null,
            "padding": null,
            "right": null,
            "top": null,
            "visibility": null,
            "width": null
          }
        },
        "16cb8e7489404914a3f9ccc9042b4a28": {
          "model_module": "@jupyter-widgets/base",
          "model_name": "LayoutModel",
          "model_module_version": "1.2.0",
          "state": {
            "_model_module": "@jupyter-widgets/base",
            "_model_module_version": "1.2.0",
            "_model_name": "LayoutModel",
            "_view_count": null,
            "_view_module": "@jupyter-widgets/base",
            "_view_module_version": "1.2.0",
            "_view_name": "LayoutView",
            "align_content": null,
            "align_items": null,
            "align_self": null,
            "border": null,
            "bottom": null,
            "display": null,
            "flex": null,
            "flex_flow": null,
            "grid_area": null,
            "grid_auto_columns": null,
            "grid_auto_flow": null,
            "grid_auto_rows": null,
            "grid_column": null,
            "grid_gap": null,
            "grid_row": null,
            "grid_template_areas": null,
            "grid_template_columns": null,
            "grid_template_rows": null,
            "height": null,
            "justify_content": null,
            "justify_items": null,
            "left": null,
            "margin": null,
            "max_height": null,
            "max_width": null,
            "min_height": null,
            "min_width": null,
            "object_fit": null,
            "object_position": null,
            "order": null,
            "overflow": null,
            "overflow_x": null,
            "overflow_y": null,
            "padding": null,
            "right": null,
            "top": null,
            "visibility": null,
            "width": null
          }
        },
        "93f191a9d16946d6b9926731895c3378": {
          "model_module": "@jupyter-widgets/controls",
          "model_name": "DescriptionStyleModel",
          "model_module_version": "1.5.0",
          "state": {
            "_model_module": "@jupyter-widgets/controls",
            "_model_module_version": "1.5.0",
            "_model_name": "DescriptionStyleModel",
            "_view_count": null,
            "_view_module": "@jupyter-widgets/base",
            "_view_module_version": "1.2.0",
            "_view_name": "StyleView",
            "description_width": ""
          }
        },
        "e3f84943f5994bbba9f1147acbee4e85": {
          "model_module": "@jupyter-widgets/base",
          "model_name": "LayoutModel",
          "model_module_version": "1.2.0",
          "state": {
            "_model_module": "@jupyter-widgets/base",
            "_model_module_version": "1.2.0",
            "_model_name": "LayoutModel",
            "_view_count": null,
            "_view_module": "@jupyter-widgets/base",
            "_view_module_version": "1.2.0",
            "_view_name": "LayoutView",
            "align_content": null,
            "align_items": null,
            "align_self": null,
            "border": null,
            "bottom": null,
            "display": null,
            "flex": null,
            "flex_flow": null,
            "grid_area": null,
            "grid_auto_columns": null,
            "grid_auto_flow": null,
            "grid_auto_rows": null,
            "grid_column": null,
            "grid_gap": null,
            "grid_row": null,
            "grid_template_areas": null,
            "grid_template_columns": null,
            "grid_template_rows": null,
            "height": null,
            "justify_content": null,
            "justify_items": null,
            "left": null,
            "margin": null,
            "max_height": null,
            "max_width": null,
            "min_height": null,
            "min_width": null,
            "object_fit": null,
            "object_position": null,
            "order": null,
            "overflow": null,
            "overflow_x": null,
            "overflow_y": null,
            "padding": null,
            "right": null,
            "top": null,
            "visibility": null,
            "width": null
          }
        },
        "1d31c069a42240759fe1219a4d71dca2": {
          "model_module": "@jupyter-widgets/controls",
          "model_name": "ProgressStyleModel",
          "model_module_version": "1.5.0",
          "state": {
            "_model_module": "@jupyter-widgets/controls",
            "_model_module_version": "1.5.0",
            "_model_name": "ProgressStyleModel",
            "_view_count": null,
            "_view_module": "@jupyter-widgets/base",
            "_view_module_version": "1.2.0",
            "_view_name": "StyleView",
            "bar_color": null,
            "description_width": ""
          }
        },
        "989a9b6451784c46a6f7b63dc3bf369f": {
          "model_module": "@jupyter-widgets/base",
          "model_name": "LayoutModel",
          "model_module_version": "1.2.0",
          "state": {
            "_model_module": "@jupyter-widgets/base",
            "_model_module_version": "1.2.0",
            "_model_name": "LayoutModel",
            "_view_count": null,
            "_view_module": "@jupyter-widgets/base",
            "_view_module_version": "1.2.0",
            "_view_name": "LayoutView",
            "align_content": null,
            "align_items": null,
            "align_self": null,
            "border": null,
            "bottom": null,
            "display": null,
            "flex": null,
            "flex_flow": null,
            "grid_area": null,
            "grid_auto_columns": null,
            "grid_auto_flow": null,
            "grid_auto_rows": null,
            "grid_column": null,
            "grid_gap": null,
            "grid_row": null,
            "grid_template_areas": null,
            "grid_template_columns": null,
            "grid_template_rows": null,
            "height": null,
            "justify_content": null,
            "justify_items": null,
            "left": null,
            "margin": null,
            "max_height": null,
            "max_width": null,
            "min_height": null,
            "min_width": null,
            "object_fit": null,
            "object_position": null,
            "order": null,
            "overflow": null,
            "overflow_x": null,
            "overflow_y": null,
            "padding": null,
            "right": null,
            "top": null,
            "visibility": null,
            "width": null
          }
        },
        "7c6da79e493240259cd18fc9f49e9c0c": {
          "model_module": "@jupyter-widgets/controls",
          "model_name": "DescriptionStyleModel",
          "model_module_version": "1.5.0",
          "state": {
            "_model_module": "@jupyter-widgets/controls",
            "_model_module_version": "1.5.0",
            "_model_name": "DescriptionStyleModel",
            "_view_count": null,
            "_view_module": "@jupyter-widgets/base",
            "_view_module_version": "1.2.0",
            "_view_name": "StyleView",
            "description_width": ""
          }
        },
        "8f42af9c34f343b486e13c4d9c4039ef": {
          "model_module": "@jupyter-widgets/controls",
          "model_name": "HBoxModel",
          "model_module_version": "1.5.0",
          "state": {
            "_dom_classes": [],
            "_model_module": "@jupyter-widgets/controls",
            "_model_module_version": "1.5.0",
            "_model_name": "HBoxModel",
            "_view_count": null,
            "_view_module": "@jupyter-widgets/controls",
            "_view_module_version": "1.5.0",
            "_view_name": "HBoxView",
            "box_style": "",
            "children": [
              "IPY_MODEL_7ae6aa9bd45a4c68a0cde4f8d66f8a6e",
              "IPY_MODEL_c6574ead6b364686b4c068d8e8dac5ab",
              "IPY_MODEL_533d3025cbab4c2b932f0c7f95c96a27"
            ],
            "layout": "IPY_MODEL_de982ca73827425a9f3c0dbf2f40b86f"
          }
        },
        "7ae6aa9bd45a4c68a0cde4f8d66f8a6e": {
          "model_module": "@jupyter-widgets/controls",
          "model_name": "HTMLModel",
          "model_module_version": "1.5.0",
          "state": {
            "_dom_classes": [],
            "_model_module": "@jupyter-widgets/controls",
            "_model_module_version": "1.5.0",
            "_model_name": "HTMLModel",
            "_view_count": null,
            "_view_module": "@jupyter-widgets/controls",
            "_view_module_version": "1.5.0",
            "_view_name": "HTMLView",
            "description": "",
            "description_tooltip": null,
            "layout": "IPY_MODEL_92139a14118a447a9dffb038579f5f94",
            "placeholder": "​",
            "style": "IPY_MODEL_a8d68e13b2fb4cc1b3111ecee34fbdf7",
            "value": "100%"
          }
        },
        "c6574ead6b364686b4c068d8e8dac5ab": {
          "model_module": "@jupyter-widgets/controls",
          "model_name": "FloatProgressModel",
          "model_module_version": "1.5.0",
          "state": {
            "_dom_classes": [],
            "_model_module": "@jupyter-widgets/controls",
            "_model_module_version": "1.5.0",
            "_model_name": "FloatProgressModel",
            "_view_count": null,
            "_view_module": "@jupyter-widgets/controls",
            "_view_module_version": "1.5.0",
            "_view_name": "ProgressView",
            "bar_style": "success",
            "description": "",
            "description_tooltip": null,
            "layout": "IPY_MODEL_26e958ea83334fe5a17991765694cee7",
            "max": 19,
            "min": 0,
            "orientation": "horizontal",
            "style": "IPY_MODEL_0a2ebe3f4c564cbebd826464656d8ceb",
            "value": 19
          }
        },
        "533d3025cbab4c2b932f0c7f95c96a27": {
          "model_module": "@jupyter-widgets/controls",
          "model_name": "HTMLModel",
          "model_module_version": "1.5.0",
          "state": {
            "_dom_classes": [],
            "_model_module": "@jupyter-widgets/controls",
            "_model_module_version": "1.5.0",
            "_model_name": "HTMLModel",
            "_view_count": null,
            "_view_module": "@jupyter-widgets/controls",
            "_view_module_version": "1.5.0",
            "_view_name": "HTMLView",
            "description": "",
            "description_tooltip": null,
            "layout": "IPY_MODEL_be4d2e3d7491478ea85dfa0ffb94612c",
            "placeholder": "​",
            "style": "IPY_MODEL_3e7aacb0e5e444ac91a7e238453d25bf",
            "value": " 19/19 [00:12&lt;00:00,  1.96it/s]"
          }
        },
        "de982ca73827425a9f3c0dbf2f40b86f": {
          "model_module": "@jupyter-widgets/base",
          "model_name": "LayoutModel",
          "model_module_version": "1.2.0",
          "state": {
            "_model_module": "@jupyter-widgets/base",
            "_model_module_version": "1.2.0",
            "_model_name": "LayoutModel",
            "_view_count": null,
            "_view_module": "@jupyter-widgets/base",
            "_view_module_version": "1.2.0",
            "_view_name": "LayoutView",
            "align_content": null,
            "align_items": null,
            "align_self": null,
            "border": null,
            "bottom": null,
            "display": null,
            "flex": null,
            "flex_flow": null,
            "grid_area": null,
            "grid_auto_columns": null,
            "grid_auto_flow": null,
            "grid_auto_rows": null,
            "grid_column": null,
            "grid_gap": null,
            "grid_row": null,
            "grid_template_areas": null,
            "grid_template_columns": null,
            "grid_template_rows": null,
            "height": null,
            "justify_content": null,
            "justify_items": null,
            "left": null,
            "margin": null,
            "max_height": null,
            "max_width": null,
            "min_height": null,
            "min_width": null,
            "object_fit": null,
            "object_position": null,
            "order": null,
            "overflow": null,
            "overflow_x": null,
            "overflow_y": null,
            "padding": null,
            "right": null,
            "top": null,
            "visibility": null,
            "width": null
          }
        },
        "92139a14118a447a9dffb038579f5f94": {
          "model_module": "@jupyter-widgets/base",
          "model_name": "LayoutModel",
          "model_module_version": "1.2.0",
          "state": {
            "_model_module": "@jupyter-widgets/base",
            "_model_module_version": "1.2.0",
            "_model_name": "LayoutModel",
            "_view_count": null,
            "_view_module": "@jupyter-widgets/base",
            "_view_module_version": "1.2.0",
            "_view_name": "LayoutView",
            "align_content": null,
            "align_items": null,
            "align_self": null,
            "border": null,
            "bottom": null,
            "display": null,
            "flex": null,
            "flex_flow": null,
            "grid_area": null,
            "grid_auto_columns": null,
            "grid_auto_flow": null,
            "grid_auto_rows": null,
            "grid_column": null,
            "grid_gap": null,
            "grid_row": null,
            "grid_template_areas": null,
            "grid_template_columns": null,
            "grid_template_rows": null,
            "height": null,
            "justify_content": null,
            "justify_items": null,
            "left": null,
            "margin": null,
            "max_height": null,
            "max_width": null,
            "min_height": null,
            "min_width": null,
            "object_fit": null,
            "object_position": null,
            "order": null,
            "overflow": null,
            "overflow_x": null,
            "overflow_y": null,
            "padding": null,
            "right": null,
            "top": null,
            "visibility": null,
            "width": null
          }
        },
        "a8d68e13b2fb4cc1b3111ecee34fbdf7": {
          "model_module": "@jupyter-widgets/controls",
          "model_name": "DescriptionStyleModel",
          "model_module_version": "1.5.0",
          "state": {
            "_model_module": "@jupyter-widgets/controls",
            "_model_module_version": "1.5.0",
            "_model_name": "DescriptionStyleModel",
            "_view_count": null,
            "_view_module": "@jupyter-widgets/base",
            "_view_module_version": "1.2.0",
            "_view_name": "StyleView",
            "description_width": ""
          }
        },
        "26e958ea83334fe5a17991765694cee7": {
          "model_module": "@jupyter-widgets/base",
          "model_name": "LayoutModel",
          "model_module_version": "1.2.0",
          "state": {
            "_model_module": "@jupyter-widgets/base",
            "_model_module_version": "1.2.0",
            "_model_name": "LayoutModel",
            "_view_count": null,
            "_view_module": "@jupyter-widgets/base",
            "_view_module_version": "1.2.0",
            "_view_name": "LayoutView",
            "align_content": null,
            "align_items": null,
            "align_self": null,
            "border": null,
            "bottom": null,
            "display": null,
            "flex": null,
            "flex_flow": null,
            "grid_area": null,
            "grid_auto_columns": null,
            "grid_auto_flow": null,
            "grid_auto_rows": null,
            "grid_column": null,
            "grid_gap": null,
            "grid_row": null,
            "grid_template_areas": null,
            "grid_template_columns": null,
            "grid_template_rows": null,
            "height": null,
            "justify_content": null,
            "justify_items": null,
            "left": null,
            "margin": null,
            "max_height": null,
            "max_width": null,
            "min_height": null,
            "min_width": null,
            "object_fit": null,
            "object_position": null,
            "order": null,
            "overflow": null,
            "overflow_x": null,
            "overflow_y": null,
            "padding": null,
            "right": null,
            "top": null,
            "visibility": null,
            "width": null
          }
        },
        "0a2ebe3f4c564cbebd826464656d8ceb": {
          "model_module": "@jupyter-widgets/controls",
          "model_name": "ProgressStyleModel",
          "model_module_version": "1.5.0",
          "state": {
            "_model_module": "@jupyter-widgets/controls",
            "_model_module_version": "1.5.0",
            "_model_name": "ProgressStyleModel",
            "_view_count": null,
            "_view_module": "@jupyter-widgets/base",
            "_view_module_version": "1.2.0",
            "_view_name": "StyleView",
            "bar_color": null,
            "description_width": ""
          }
        },
        "be4d2e3d7491478ea85dfa0ffb94612c": {
          "model_module": "@jupyter-widgets/base",
          "model_name": "LayoutModel",
          "model_module_version": "1.2.0",
          "state": {
            "_model_module": "@jupyter-widgets/base",
            "_model_module_version": "1.2.0",
            "_model_name": "LayoutModel",
            "_view_count": null,
            "_view_module": "@jupyter-widgets/base",
            "_view_module_version": "1.2.0",
            "_view_name": "LayoutView",
            "align_content": null,
            "align_items": null,
            "align_self": null,
            "border": null,
            "bottom": null,
            "display": null,
            "flex": null,
            "flex_flow": null,
            "grid_area": null,
            "grid_auto_columns": null,
            "grid_auto_flow": null,
            "grid_auto_rows": null,
            "grid_column": null,
            "grid_gap": null,
            "grid_row": null,
            "grid_template_areas": null,
            "grid_template_columns": null,
            "grid_template_rows": null,
            "height": null,
            "justify_content": null,
            "justify_items": null,
            "left": null,
            "margin": null,
            "max_height": null,
            "max_width": null,
            "min_height": null,
            "min_width": null,
            "object_fit": null,
            "object_position": null,
            "order": null,
            "overflow": null,
            "overflow_x": null,
            "overflow_y": null,
            "padding": null,
            "right": null,
            "top": null,
            "visibility": null,
            "width": null
          }
        },
        "3e7aacb0e5e444ac91a7e238453d25bf": {
          "model_module": "@jupyter-widgets/controls",
          "model_name": "DescriptionStyleModel",
          "model_module_version": "1.5.0",
          "state": {
            "_model_module": "@jupyter-widgets/controls",
            "_model_module_version": "1.5.0",
            "_model_name": "DescriptionStyleModel",
            "_view_count": null,
            "_view_module": "@jupyter-widgets/base",
            "_view_module_version": "1.2.0",
            "_view_name": "StyleView",
            "description_width": ""
          }
        },
        "45d5695782f545698a231b23d9b42fcf": {
          "model_module": "@jupyter-widgets/controls",
          "model_name": "HBoxModel",
          "model_module_version": "1.5.0",
          "state": {
            "_dom_classes": [],
            "_model_module": "@jupyter-widgets/controls",
            "_model_module_version": "1.5.0",
            "_model_name": "HBoxModel",
            "_view_count": null,
            "_view_module": "@jupyter-widgets/controls",
            "_view_module_version": "1.5.0",
            "_view_name": "HBoxView",
            "box_style": "",
            "children": [
              "IPY_MODEL_3cb9ffc64ca447b38c1d2d85b11d6d6c",
              "IPY_MODEL_e4c14e2411b144c799d8699c00d79b72",
              "IPY_MODEL_4a3e4aa5934b44f5ac62c0958d3b24e6"
            ],
            "layout": "IPY_MODEL_95a76831adbc4b95a268164e8f3dd148"
          }
        },
        "3cb9ffc64ca447b38c1d2d85b11d6d6c": {
          "model_module": "@jupyter-widgets/controls",
          "model_name": "HTMLModel",
          "model_module_version": "1.5.0",
          "state": {
            "_dom_classes": [],
            "_model_module": "@jupyter-widgets/controls",
            "_model_module_version": "1.5.0",
            "_model_name": "HTMLModel",
            "_view_count": null,
            "_view_module": "@jupyter-widgets/controls",
            "_view_module_version": "1.5.0",
            "_view_name": "HTMLView",
            "description": "",
            "description_tooltip": null,
            "layout": "IPY_MODEL_84b854db2e7746e6b4823be0da91612b",
            "placeholder": "​",
            "style": "IPY_MODEL_53562faf9ebc4c92a75cb167bfc2c6a0",
            "value": "100%"
          }
        },
        "e4c14e2411b144c799d8699c00d79b72": {
          "model_module": "@jupyter-widgets/controls",
          "model_name": "FloatProgressModel",
          "model_module_version": "1.5.0",
          "state": {
            "_dom_classes": [],
            "_model_module": "@jupyter-widgets/controls",
            "_model_module_version": "1.5.0",
            "_model_name": "FloatProgressModel",
            "_view_count": null,
            "_view_module": "@jupyter-widgets/controls",
            "_view_module_version": "1.5.0",
            "_view_name": "ProgressView",
            "bar_style": "success",
            "description": "",
            "description_tooltip": null,
            "layout": "IPY_MODEL_94d8f5a8975348f9b4d739ec20cfd761",
            "max": 19,
            "min": 0,
            "orientation": "horizontal",
            "style": "IPY_MODEL_144f45601be94813a6e1d3fb095b5b43",
            "value": 19
          }
        },
        "4a3e4aa5934b44f5ac62c0958d3b24e6": {
          "model_module": "@jupyter-widgets/controls",
          "model_name": "HTMLModel",
          "model_module_version": "1.5.0",
          "state": {
            "_dom_classes": [],
            "_model_module": "@jupyter-widgets/controls",
            "_model_module_version": "1.5.0",
            "_model_name": "HTMLModel",
            "_view_count": null,
            "_view_module": "@jupyter-widgets/controls",
            "_view_module_version": "1.5.0",
            "_view_name": "HTMLView",
            "description": "",
            "description_tooltip": null,
            "layout": "IPY_MODEL_fc33f2ffdd73467b93c0306b1b305eec",
            "placeholder": "​",
            "style": "IPY_MODEL_29e4c79c355c4ecd944d15b8f0d847f6",
            "value": " 19/19 [00:12&lt;00:00,  1.78it/s]"
          }
        },
        "95a76831adbc4b95a268164e8f3dd148": {
          "model_module": "@jupyter-widgets/base",
          "model_name": "LayoutModel",
          "model_module_version": "1.2.0",
          "state": {
            "_model_module": "@jupyter-widgets/base",
            "_model_module_version": "1.2.0",
            "_model_name": "LayoutModel",
            "_view_count": null,
            "_view_module": "@jupyter-widgets/base",
            "_view_module_version": "1.2.0",
            "_view_name": "LayoutView",
            "align_content": null,
            "align_items": null,
            "align_self": null,
            "border": null,
            "bottom": null,
            "display": null,
            "flex": null,
            "flex_flow": null,
            "grid_area": null,
            "grid_auto_columns": null,
            "grid_auto_flow": null,
            "grid_auto_rows": null,
            "grid_column": null,
            "grid_gap": null,
            "grid_row": null,
            "grid_template_areas": null,
            "grid_template_columns": null,
            "grid_template_rows": null,
            "height": null,
            "justify_content": null,
            "justify_items": null,
            "left": null,
            "margin": null,
            "max_height": null,
            "max_width": null,
            "min_height": null,
            "min_width": null,
            "object_fit": null,
            "object_position": null,
            "order": null,
            "overflow": null,
            "overflow_x": null,
            "overflow_y": null,
            "padding": null,
            "right": null,
            "top": null,
            "visibility": null,
            "width": null
          }
        },
        "84b854db2e7746e6b4823be0da91612b": {
          "model_module": "@jupyter-widgets/base",
          "model_name": "LayoutModel",
          "model_module_version": "1.2.0",
          "state": {
            "_model_module": "@jupyter-widgets/base",
            "_model_module_version": "1.2.0",
            "_model_name": "LayoutModel",
            "_view_count": null,
            "_view_module": "@jupyter-widgets/base",
            "_view_module_version": "1.2.0",
            "_view_name": "LayoutView",
            "align_content": null,
            "align_items": null,
            "align_self": null,
            "border": null,
            "bottom": null,
            "display": null,
            "flex": null,
            "flex_flow": null,
            "grid_area": null,
            "grid_auto_columns": null,
            "grid_auto_flow": null,
            "grid_auto_rows": null,
            "grid_column": null,
            "grid_gap": null,
            "grid_row": null,
            "grid_template_areas": null,
            "grid_template_columns": null,
            "grid_template_rows": null,
            "height": null,
            "justify_content": null,
            "justify_items": null,
            "left": null,
            "margin": null,
            "max_height": null,
            "max_width": null,
            "min_height": null,
            "min_width": null,
            "object_fit": null,
            "object_position": null,
            "order": null,
            "overflow": null,
            "overflow_x": null,
            "overflow_y": null,
            "padding": null,
            "right": null,
            "top": null,
            "visibility": null,
            "width": null
          }
        },
        "53562faf9ebc4c92a75cb167bfc2c6a0": {
          "model_module": "@jupyter-widgets/controls",
          "model_name": "DescriptionStyleModel",
          "model_module_version": "1.5.0",
          "state": {
            "_model_module": "@jupyter-widgets/controls",
            "_model_module_version": "1.5.0",
            "_model_name": "DescriptionStyleModel",
            "_view_count": null,
            "_view_module": "@jupyter-widgets/base",
            "_view_module_version": "1.2.0",
            "_view_name": "StyleView",
            "description_width": ""
          }
        },
        "94d8f5a8975348f9b4d739ec20cfd761": {
          "model_module": "@jupyter-widgets/base",
          "model_name": "LayoutModel",
          "model_module_version": "1.2.0",
          "state": {
            "_model_module": "@jupyter-widgets/base",
            "_model_module_version": "1.2.0",
            "_model_name": "LayoutModel",
            "_view_count": null,
            "_view_module": "@jupyter-widgets/base",
            "_view_module_version": "1.2.0",
            "_view_name": "LayoutView",
            "align_content": null,
            "align_items": null,
            "align_self": null,
            "border": null,
            "bottom": null,
            "display": null,
            "flex": null,
            "flex_flow": null,
            "grid_area": null,
            "grid_auto_columns": null,
            "grid_auto_flow": null,
            "grid_auto_rows": null,
            "grid_column": null,
            "grid_gap": null,
            "grid_row": null,
            "grid_template_areas": null,
            "grid_template_columns": null,
            "grid_template_rows": null,
            "height": null,
            "justify_content": null,
            "justify_items": null,
            "left": null,
            "margin": null,
            "max_height": null,
            "max_width": null,
            "min_height": null,
            "min_width": null,
            "object_fit": null,
            "object_position": null,
            "order": null,
            "overflow": null,
            "overflow_x": null,
            "overflow_y": null,
            "padding": null,
            "right": null,
            "top": null,
            "visibility": null,
            "width": null
          }
        },
        "144f45601be94813a6e1d3fb095b5b43": {
          "model_module": "@jupyter-widgets/controls",
          "model_name": "ProgressStyleModel",
          "model_module_version": "1.5.0",
          "state": {
            "_model_module": "@jupyter-widgets/controls",
            "_model_module_version": "1.5.0",
            "_model_name": "ProgressStyleModel",
            "_view_count": null,
            "_view_module": "@jupyter-widgets/base",
            "_view_module_version": "1.2.0",
            "_view_name": "StyleView",
            "bar_color": null,
            "description_width": ""
          }
        },
        "fc33f2ffdd73467b93c0306b1b305eec": {
          "model_module": "@jupyter-widgets/base",
          "model_name": "LayoutModel",
          "model_module_version": "1.2.0",
          "state": {
            "_model_module": "@jupyter-widgets/base",
            "_model_module_version": "1.2.0",
            "_model_name": "LayoutModel",
            "_view_count": null,
            "_view_module": "@jupyter-widgets/base",
            "_view_module_version": "1.2.0",
            "_view_name": "LayoutView",
            "align_content": null,
            "align_items": null,
            "align_self": null,
            "border": null,
            "bottom": null,
            "display": null,
            "flex": null,
            "flex_flow": null,
            "grid_area": null,
            "grid_auto_columns": null,
            "grid_auto_flow": null,
            "grid_auto_rows": null,
            "grid_column": null,
            "grid_gap": null,
            "grid_row": null,
            "grid_template_areas": null,
            "grid_template_columns": null,
            "grid_template_rows": null,
            "height": null,
            "justify_content": null,
            "justify_items": null,
            "left": null,
            "margin": null,
            "max_height": null,
            "max_width": null,
            "min_height": null,
            "min_width": null,
            "object_fit": null,
            "object_position": null,
            "order": null,
            "overflow": null,
            "overflow_x": null,
            "overflow_y": null,
            "padding": null,
            "right": null,
            "top": null,
            "visibility": null,
            "width": null
          }
        },
        "29e4c79c355c4ecd944d15b8f0d847f6": {
          "model_module": "@jupyter-widgets/controls",
          "model_name": "DescriptionStyleModel",
          "model_module_version": "1.5.0",
          "state": {
            "_model_module": "@jupyter-widgets/controls",
            "_model_module_version": "1.5.0",
            "_model_name": "DescriptionStyleModel",
            "_view_count": null,
            "_view_module": "@jupyter-widgets/base",
            "_view_module_version": "1.2.0",
            "_view_name": "StyleView",
            "description_width": ""
          }
        },
        "c5951b945df4497daf4395c2d283111f": {
          "model_module": "@jupyter-widgets/controls",
          "model_name": "HBoxModel",
          "model_module_version": "1.5.0",
          "state": {
            "_dom_classes": [],
            "_model_module": "@jupyter-widgets/controls",
            "_model_module_version": "1.5.0",
            "_model_name": "HBoxModel",
            "_view_count": null,
            "_view_module": "@jupyter-widgets/controls",
            "_view_module_version": "1.5.0",
            "_view_name": "HBoxView",
            "box_style": "",
            "children": [
              "IPY_MODEL_311d68cd9c694da88b7bb384e24507e4",
              "IPY_MODEL_28c3e5935ea04ce384c8d0c8d203541a",
              "IPY_MODEL_07b91d91a27c4fefaf339a70708bad99"
            ],
            "layout": "IPY_MODEL_0d9b877b89bf48888d5df668bd1bc778"
          }
        },
        "311d68cd9c694da88b7bb384e24507e4": {
          "model_module": "@jupyter-widgets/controls",
          "model_name": "HTMLModel",
          "model_module_version": "1.5.0",
          "state": {
            "_dom_classes": [],
            "_model_module": "@jupyter-widgets/controls",
            "_model_module_version": "1.5.0",
            "_model_name": "HTMLModel",
            "_view_count": null,
            "_view_module": "@jupyter-widgets/controls",
            "_view_module_version": "1.5.0",
            "_view_name": "HTMLView",
            "description": "",
            "description_tooltip": null,
            "layout": "IPY_MODEL_12dd0c95e9e247c29a99e4c78f0d3729",
            "placeholder": "​",
            "style": "IPY_MODEL_2c6d7738289f4cca839d2a288204ec48",
            "value": "100%"
          }
        },
        "28c3e5935ea04ce384c8d0c8d203541a": {
          "model_module": "@jupyter-widgets/controls",
          "model_name": "FloatProgressModel",
          "model_module_version": "1.5.0",
          "state": {
            "_dom_classes": [],
            "_model_module": "@jupyter-widgets/controls",
            "_model_module_version": "1.5.0",
            "_model_name": "FloatProgressModel",
            "_view_count": null,
            "_view_module": "@jupyter-widgets/controls",
            "_view_module_version": "1.5.0",
            "_view_name": "ProgressView",
            "bar_style": "success",
            "description": "",
            "description_tooltip": null,
            "layout": "IPY_MODEL_93979c46c98f47839d3945eea188f306",
            "max": 19,
            "min": 0,
            "orientation": "horizontal",
            "style": "IPY_MODEL_3f80f26e22e9440e92eb91c10175bdea",
            "value": 19
          }
        },
        "07b91d91a27c4fefaf339a70708bad99": {
          "model_module": "@jupyter-widgets/controls",
          "model_name": "HTMLModel",
          "model_module_version": "1.5.0",
          "state": {
            "_dom_classes": [],
            "_model_module": "@jupyter-widgets/controls",
            "_model_module_version": "1.5.0",
            "_model_name": "HTMLModel",
            "_view_count": null,
            "_view_module": "@jupyter-widgets/controls",
            "_view_module_version": "1.5.0",
            "_view_name": "HTMLView",
            "description": "",
            "description_tooltip": null,
            "layout": "IPY_MODEL_eaa9c97b967042f1b151191e376cffb4",
            "placeholder": "​",
            "style": "IPY_MODEL_395ee7a5b4014ea1bbc351e575c1a9bc",
            "value": " 19/19 [00:12&lt;00:00,  1.80it/s]"
          }
        },
        "0d9b877b89bf48888d5df668bd1bc778": {
          "model_module": "@jupyter-widgets/base",
          "model_name": "LayoutModel",
          "model_module_version": "1.2.0",
          "state": {
            "_model_module": "@jupyter-widgets/base",
            "_model_module_version": "1.2.0",
            "_model_name": "LayoutModel",
            "_view_count": null,
            "_view_module": "@jupyter-widgets/base",
            "_view_module_version": "1.2.0",
            "_view_name": "LayoutView",
            "align_content": null,
            "align_items": null,
            "align_self": null,
            "border": null,
            "bottom": null,
            "display": null,
            "flex": null,
            "flex_flow": null,
            "grid_area": null,
            "grid_auto_columns": null,
            "grid_auto_flow": null,
            "grid_auto_rows": null,
            "grid_column": null,
            "grid_gap": null,
            "grid_row": null,
            "grid_template_areas": null,
            "grid_template_columns": null,
            "grid_template_rows": null,
            "height": null,
            "justify_content": null,
            "justify_items": null,
            "left": null,
            "margin": null,
            "max_height": null,
            "max_width": null,
            "min_height": null,
            "min_width": null,
            "object_fit": null,
            "object_position": null,
            "order": null,
            "overflow": null,
            "overflow_x": null,
            "overflow_y": null,
            "padding": null,
            "right": null,
            "top": null,
            "visibility": null,
            "width": null
          }
        },
        "12dd0c95e9e247c29a99e4c78f0d3729": {
          "model_module": "@jupyter-widgets/base",
          "model_name": "LayoutModel",
          "model_module_version": "1.2.0",
          "state": {
            "_model_module": "@jupyter-widgets/base",
            "_model_module_version": "1.2.0",
            "_model_name": "LayoutModel",
            "_view_count": null,
            "_view_module": "@jupyter-widgets/base",
            "_view_module_version": "1.2.0",
            "_view_name": "LayoutView",
            "align_content": null,
            "align_items": null,
            "align_self": null,
            "border": null,
            "bottom": null,
            "display": null,
            "flex": null,
            "flex_flow": null,
            "grid_area": null,
            "grid_auto_columns": null,
            "grid_auto_flow": null,
            "grid_auto_rows": null,
            "grid_column": null,
            "grid_gap": null,
            "grid_row": null,
            "grid_template_areas": null,
            "grid_template_columns": null,
            "grid_template_rows": null,
            "height": null,
            "justify_content": null,
            "justify_items": null,
            "left": null,
            "margin": null,
            "max_height": null,
            "max_width": null,
            "min_height": null,
            "min_width": null,
            "object_fit": null,
            "object_position": null,
            "order": null,
            "overflow": null,
            "overflow_x": null,
            "overflow_y": null,
            "padding": null,
            "right": null,
            "top": null,
            "visibility": null,
            "width": null
          }
        },
        "2c6d7738289f4cca839d2a288204ec48": {
          "model_module": "@jupyter-widgets/controls",
          "model_name": "DescriptionStyleModel",
          "model_module_version": "1.5.0",
          "state": {
            "_model_module": "@jupyter-widgets/controls",
            "_model_module_version": "1.5.0",
            "_model_name": "DescriptionStyleModel",
            "_view_count": null,
            "_view_module": "@jupyter-widgets/base",
            "_view_module_version": "1.2.0",
            "_view_name": "StyleView",
            "description_width": ""
          }
        },
        "93979c46c98f47839d3945eea188f306": {
          "model_module": "@jupyter-widgets/base",
          "model_name": "LayoutModel",
          "model_module_version": "1.2.0",
          "state": {
            "_model_module": "@jupyter-widgets/base",
            "_model_module_version": "1.2.0",
            "_model_name": "LayoutModel",
            "_view_count": null,
            "_view_module": "@jupyter-widgets/base",
            "_view_module_version": "1.2.0",
            "_view_name": "LayoutView",
            "align_content": null,
            "align_items": null,
            "align_self": null,
            "border": null,
            "bottom": null,
            "display": null,
            "flex": null,
            "flex_flow": null,
            "grid_area": null,
            "grid_auto_columns": null,
            "grid_auto_flow": null,
            "grid_auto_rows": null,
            "grid_column": null,
            "grid_gap": null,
            "grid_row": null,
            "grid_template_areas": null,
            "grid_template_columns": null,
            "grid_template_rows": null,
            "height": null,
            "justify_content": null,
            "justify_items": null,
            "left": null,
            "margin": null,
            "max_height": null,
            "max_width": null,
            "min_height": null,
            "min_width": null,
            "object_fit": null,
            "object_position": null,
            "order": null,
            "overflow": null,
            "overflow_x": null,
            "overflow_y": null,
            "padding": null,
            "right": null,
            "top": null,
            "visibility": null,
            "width": null
          }
        },
        "3f80f26e22e9440e92eb91c10175bdea": {
          "model_module": "@jupyter-widgets/controls",
          "model_name": "ProgressStyleModel",
          "model_module_version": "1.5.0",
          "state": {
            "_model_module": "@jupyter-widgets/controls",
            "_model_module_version": "1.5.0",
            "_model_name": "ProgressStyleModel",
            "_view_count": null,
            "_view_module": "@jupyter-widgets/base",
            "_view_module_version": "1.2.0",
            "_view_name": "StyleView",
            "bar_color": null,
            "description_width": ""
          }
        },
        "eaa9c97b967042f1b151191e376cffb4": {
          "model_module": "@jupyter-widgets/base",
          "model_name": "LayoutModel",
          "model_module_version": "1.2.0",
          "state": {
            "_model_module": "@jupyter-widgets/base",
            "_model_module_version": "1.2.0",
            "_model_name": "LayoutModel",
            "_view_count": null,
            "_view_module": "@jupyter-widgets/base",
            "_view_module_version": "1.2.0",
            "_view_name": "LayoutView",
            "align_content": null,
            "align_items": null,
            "align_self": null,
            "border": null,
            "bottom": null,
            "display": null,
            "flex": null,
            "flex_flow": null,
            "grid_area": null,
            "grid_auto_columns": null,
            "grid_auto_flow": null,
            "grid_auto_rows": null,
            "grid_column": null,
            "grid_gap": null,
            "grid_row": null,
            "grid_template_areas": null,
            "grid_template_columns": null,
            "grid_template_rows": null,
            "height": null,
            "justify_content": null,
            "justify_items": null,
            "left": null,
            "margin": null,
            "max_height": null,
            "max_width": null,
            "min_height": null,
            "min_width": null,
            "object_fit": null,
            "object_position": null,
            "order": null,
            "overflow": null,
            "overflow_x": null,
            "overflow_y": null,
            "padding": null,
            "right": null,
            "top": null,
            "visibility": null,
            "width": null
          }
        },
        "395ee7a5b4014ea1bbc351e575c1a9bc": {
          "model_module": "@jupyter-widgets/controls",
          "model_name": "DescriptionStyleModel",
          "model_module_version": "1.5.0",
          "state": {
            "_model_module": "@jupyter-widgets/controls",
            "_model_module_version": "1.5.0",
            "_model_name": "DescriptionStyleModel",
            "_view_count": null,
            "_view_module": "@jupyter-widgets/base",
            "_view_module_version": "1.2.0",
            "_view_name": "StyleView",
            "description_width": ""
          }
        },
        "e660e605d6f7429d8f458e5a5217cec8": {
          "model_module": "@jupyter-widgets/controls",
          "model_name": "HBoxModel",
          "model_module_version": "1.5.0",
          "state": {
            "_dom_classes": [],
            "_model_module": "@jupyter-widgets/controls",
            "_model_module_version": "1.5.0",
            "_model_name": "HBoxModel",
            "_view_count": null,
            "_view_module": "@jupyter-widgets/controls",
            "_view_module_version": "1.5.0",
            "_view_name": "HBoxView",
            "box_style": "",
            "children": [
              "IPY_MODEL_4a79ed99363e499cb374393e61213334",
              "IPY_MODEL_d7c321c8909141e9be34d6bfc63064e1",
              "IPY_MODEL_75c1a90184c346868b04e2bc32e7c8da"
            ],
            "layout": "IPY_MODEL_307cb4f51e3d4af68decd2f6ff3e11b5"
          }
        },
        "4a79ed99363e499cb374393e61213334": {
          "model_module": "@jupyter-widgets/controls",
          "model_name": "HTMLModel",
          "model_module_version": "1.5.0",
          "state": {
            "_dom_classes": [],
            "_model_module": "@jupyter-widgets/controls",
            "_model_module_version": "1.5.0",
            "_model_name": "HTMLModel",
            "_view_count": null,
            "_view_module": "@jupyter-widgets/controls",
            "_view_module_version": "1.5.0",
            "_view_name": "HTMLView",
            "description": "",
            "description_tooltip": null,
            "layout": "IPY_MODEL_cc0776b06b974cf4af18d3d24ab3259d",
            "placeholder": "​",
            "style": "IPY_MODEL_4e8d32ea13474c7d8d66b665be7e827b",
            "value": "100%"
          }
        },
        "d7c321c8909141e9be34d6bfc63064e1": {
          "model_module": "@jupyter-widgets/controls",
          "model_name": "FloatProgressModel",
          "model_module_version": "1.5.0",
          "state": {
            "_dom_classes": [],
            "_model_module": "@jupyter-widgets/controls",
            "_model_module_version": "1.5.0",
            "_model_name": "FloatProgressModel",
            "_view_count": null,
            "_view_module": "@jupyter-widgets/controls",
            "_view_module_version": "1.5.0",
            "_view_name": "ProgressView",
            "bar_style": "success",
            "description": "",
            "description_tooltip": null,
            "layout": "IPY_MODEL_07412ab064c545648f751e19da860233",
            "max": 19,
            "min": 0,
            "orientation": "horizontal",
            "style": "IPY_MODEL_282c42d037064cb9be401ae221a20b1c",
            "value": 19
          }
        },
        "75c1a90184c346868b04e2bc32e7c8da": {
          "model_module": "@jupyter-widgets/controls",
          "model_name": "HTMLModel",
          "model_module_version": "1.5.0",
          "state": {
            "_dom_classes": [],
            "_model_module": "@jupyter-widgets/controls",
            "_model_module_version": "1.5.0",
            "_model_name": "HTMLModel",
            "_view_count": null,
            "_view_module": "@jupyter-widgets/controls",
            "_view_module_version": "1.5.0",
            "_view_name": "HTMLView",
            "description": "",
            "description_tooltip": null,
            "layout": "IPY_MODEL_35361ec0046e4c1d9f1d9d900871461a",
            "placeholder": "​",
            "style": "IPY_MODEL_1a803f50df524a6e9993ae0d38d79512",
            "value": " 19/19 [00:13&lt;00:00,  1.63it/s]"
          }
        },
        "307cb4f51e3d4af68decd2f6ff3e11b5": {
          "model_module": "@jupyter-widgets/base",
          "model_name": "LayoutModel",
          "model_module_version": "1.2.0",
          "state": {
            "_model_module": "@jupyter-widgets/base",
            "_model_module_version": "1.2.0",
            "_model_name": "LayoutModel",
            "_view_count": null,
            "_view_module": "@jupyter-widgets/base",
            "_view_module_version": "1.2.0",
            "_view_name": "LayoutView",
            "align_content": null,
            "align_items": null,
            "align_self": null,
            "border": null,
            "bottom": null,
            "display": null,
            "flex": null,
            "flex_flow": null,
            "grid_area": null,
            "grid_auto_columns": null,
            "grid_auto_flow": null,
            "grid_auto_rows": null,
            "grid_column": null,
            "grid_gap": null,
            "grid_row": null,
            "grid_template_areas": null,
            "grid_template_columns": null,
            "grid_template_rows": null,
            "height": null,
            "justify_content": null,
            "justify_items": null,
            "left": null,
            "margin": null,
            "max_height": null,
            "max_width": null,
            "min_height": null,
            "min_width": null,
            "object_fit": null,
            "object_position": null,
            "order": null,
            "overflow": null,
            "overflow_x": null,
            "overflow_y": null,
            "padding": null,
            "right": null,
            "top": null,
            "visibility": null,
            "width": null
          }
        },
        "cc0776b06b974cf4af18d3d24ab3259d": {
          "model_module": "@jupyter-widgets/base",
          "model_name": "LayoutModel",
          "model_module_version": "1.2.0",
          "state": {
            "_model_module": "@jupyter-widgets/base",
            "_model_module_version": "1.2.0",
            "_model_name": "LayoutModel",
            "_view_count": null,
            "_view_module": "@jupyter-widgets/base",
            "_view_module_version": "1.2.0",
            "_view_name": "LayoutView",
            "align_content": null,
            "align_items": null,
            "align_self": null,
            "border": null,
            "bottom": null,
            "display": null,
            "flex": null,
            "flex_flow": null,
            "grid_area": null,
            "grid_auto_columns": null,
            "grid_auto_flow": null,
            "grid_auto_rows": null,
            "grid_column": null,
            "grid_gap": null,
            "grid_row": null,
            "grid_template_areas": null,
            "grid_template_columns": null,
            "grid_template_rows": null,
            "height": null,
            "justify_content": null,
            "justify_items": null,
            "left": null,
            "margin": null,
            "max_height": null,
            "max_width": null,
            "min_height": null,
            "min_width": null,
            "object_fit": null,
            "object_position": null,
            "order": null,
            "overflow": null,
            "overflow_x": null,
            "overflow_y": null,
            "padding": null,
            "right": null,
            "top": null,
            "visibility": null,
            "width": null
          }
        },
        "4e8d32ea13474c7d8d66b665be7e827b": {
          "model_module": "@jupyter-widgets/controls",
          "model_name": "DescriptionStyleModel",
          "model_module_version": "1.5.0",
          "state": {
            "_model_module": "@jupyter-widgets/controls",
            "_model_module_version": "1.5.0",
            "_model_name": "DescriptionStyleModel",
            "_view_count": null,
            "_view_module": "@jupyter-widgets/base",
            "_view_module_version": "1.2.0",
            "_view_name": "StyleView",
            "description_width": ""
          }
        },
        "07412ab064c545648f751e19da860233": {
          "model_module": "@jupyter-widgets/base",
          "model_name": "LayoutModel",
          "model_module_version": "1.2.0",
          "state": {
            "_model_module": "@jupyter-widgets/base",
            "_model_module_version": "1.2.0",
            "_model_name": "LayoutModel",
            "_view_count": null,
            "_view_module": "@jupyter-widgets/base",
            "_view_module_version": "1.2.0",
            "_view_name": "LayoutView",
            "align_content": null,
            "align_items": null,
            "align_self": null,
            "border": null,
            "bottom": null,
            "display": null,
            "flex": null,
            "flex_flow": null,
            "grid_area": null,
            "grid_auto_columns": null,
            "grid_auto_flow": null,
            "grid_auto_rows": null,
            "grid_column": null,
            "grid_gap": null,
            "grid_row": null,
            "grid_template_areas": null,
            "grid_template_columns": null,
            "grid_template_rows": null,
            "height": null,
            "justify_content": null,
            "justify_items": null,
            "left": null,
            "margin": null,
            "max_height": null,
            "max_width": null,
            "min_height": null,
            "min_width": null,
            "object_fit": null,
            "object_position": null,
            "order": null,
            "overflow": null,
            "overflow_x": null,
            "overflow_y": null,
            "padding": null,
            "right": null,
            "top": null,
            "visibility": null,
            "width": null
          }
        },
        "282c42d037064cb9be401ae221a20b1c": {
          "model_module": "@jupyter-widgets/controls",
          "model_name": "ProgressStyleModel",
          "model_module_version": "1.5.0",
          "state": {
            "_model_module": "@jupyter-widgets/controls",
            "_model_module_version": "1.5.0",
            "_model_name": "ProgressStyleModel",
            "_view_count": null,
            "_view_module": "@jupyter-widgets/base",
            "_view_module_version": "1.2.0",
            "_view_name": "StyleView",
            "bar_color": null,
            "description_width": ""
          }
        },
        "35361ec0046e4c1d9f1d9d900871461a": {
          "model_module": "@jupyter-widgets/base",
          "model_name": "LayoutModel",
          "model_module_version": "1.2.0",
          "state": {
            "_model_module": "@jupyter-widgets/base",
            "_model_module_version": "1.2.0",
            "_model_name": "LayoutModel",
            "_view_count": null,
            "_view_module": "@jupyter-widgets/base",
            "_view_module_version": "1.2.0",
            "_view_name": "LayoutView",
            "align_content": null,
            "align_items": null,
            "align_self": null,
            "border": null,
            "bottom": null,
            "display": null,
            "flex": null,
            "flex_flow": null,
            "grid_area": null,
            "grid_auto_columns": null,
            "grid_auto_flow": null,
            "grid_auto_rows": null,
            "grid_column": null,
            "grid_gap": null,
            "grid_row": null,
            "grid_template_areas": null,
            "grid_template_columns": null,
            "grid_template_rows": null,
            "height": null,
            "justify_content": null,
            "justify_items": null,
            "left": null,
            "margin": null,
            "max_height": null,
            "max_width": null,
            "min_height": null,
            "min_width": null,
            "object_fit": null,
            "object_position": null,
            "order": null,
            "overflow": null,
            "overflow_x": null,
            "overflow_y": null,
            "padding": null,
            "right": null,
            "top": null,
            "visibility": null,
            "width": null
          }
        },
        "1a803f50df524a6e9993ae0d38d79512": {
          "model_module": "@jupyter-widgets/controls",
          "model_name": "DescriptionStyleModel",
          "model_module_version": "1.5.0",
          "state": {
            "_model_module": "@jupyter-widgets/controls",
            "_model_module_version": "1.5.0",
            "_model_name": "DescriptionStyleModel",
            "_view_count": null,
            "_view_module": "@jupyter-widgets/base",
            "_view_module_version": "1.2.0",
            "_view_name": "StyleView",
            "description_width": ""
          }
        }
      }
    }
  },
  "nbformat": 4,
  "nbformat_minor": 0
}